{
 "metadata": {
  "language_info": {
   "codemirror_mode": {
    "name": "ipython",
    "version": 3
   },
   "file_extension": ".py",
   "mimetype": "text/x-python",
   "name": "python",
   "nbconvert_exporter": "python",
   "pygments_lexer": "ipython3",
   "version": "3.8.8"
  },
  "orig_nbformat": 4,
  "kernelspec": {
   "name": "python3",
   "display_name": "Python 3.8.8 64-bit ('DF_process': conda)"
  },
  "interpreter": {
   "hash": "fc883ce4be776a00668950b7133d030a15826a94400e8f6b01ca8fd8f53ab3b3"
  }
 },
 "nbformat": 4,
 "nbformat_minor": 2,
 "cells": [
  {
   "cell_type": "code",
   "execution_count": 1,
   "metadata": {},
   "outputs": [],
   "source": [
    "import pandas as pd"
   ]
  },
  {
   "cell_type": "code",
   "execution_count": 2,
   "metadata": {},
   "outputs": [],
   "source": [
    "df_rsbi = pd.read_csv(r\"..\\Data\\Result\\rsbi_r.csv\")\n",
    "df_concat = pd.read_csv(r\"..\\Data\\Format\\DATA.csv)\n",
    "pd.set_option('display.max_columns', 60)\n",
    "pd.set_option('display.max_rows', 60)"
   ]
  },
  {
   "cell_type": "code",
   "execution_count": 3,
   "metadata": {},
   "outputs": [
    {
     "output_type": "execute_result",
     "data": {
      "text/plain": [
       "(8630, 14)"
      ]
     },
     "metadata": {},
     "execution_count": 3
    }
   ],
   "source": [
    "df.shape"
   ]
  },
  {
   "cell_type": "code",
   "execution_count": 4,
   "metadata": {},
   "outputs": [],
   "source": [
    "df_1 = df.dropna(how='any',subset=['zdt_1'])"
   ]
  },
  {
   "cell_type": "code",
   "execution_count": 5,
   "metadata": {},
   "outputs": [
    {
     "output_type": "execute_result",
     "data": {
      "text/plain": [
       "(3625, 14)"
      ]
     },
     "metadata": {},
     "execution_count": 5
    }
   ],
   "source": [
    "df_1.shape"
   ]
  },
  {
   "cell_type": "code",
   "execution_count": 19,
   "metadata": {},
   "outputs": [
    {
     "output_type": "execute_result",
     "data": {
      "text/plain": [
       "       PID             Record_t            Record_id               Resp_t  \\\n",
       "0  4109828  2020-01-01 08:00:16  ZDC555F219123101EID  2020-01-01 06:01:27   \n",
       "1  4109828  2020-01-01 08:00:16  ZDC555F219123101EID  2020-01-01 07:44:06   \n",
       "2  5568391  2020-01-01 10:14:32  ZD883B2920010100G92  2020-01-01 09:00:00   \n",
       "3  5568391  2020-01-01 10:14:32  ZD883B2920010100G92  2020-01-01 10:00:00   \n",
       "4  5568391  2020-01-01 11:03:21  ZD883B2920010100G92  2020-01-01 11:00:02   \n",
       "5  5560751  2020-01-01 12:00:16  ZD88315D1912300149L  2020-01-01 10:55:10   \n",
       "6  5560751  2020-01-01 12:00:16  ZD88315D1912300149L  2020-01-01 11:54:30   \n",
       "7  5560751  2020-01-01 13:01:11  ZD88315D1912300149L  2020-01-01 12:45:32   \n",
       "8  3044500  2020-01-02 07:22:28  ZP0EBDB119122000YYE  2020-01-02 07:00:00   \n",
       "9  3044500  2020-01-02 08:47:06  ZP0EBDB119122000YYE  2020-01-02 08:41:51   \n",
       "\n",
       "                     zdt_1                    zpx_1 Heart_t zdt_2 zpx_2  \\\n",
       "0  ZDC555F219123101EID_018  ZDC555F219123101EID_018     NaN   NaN   NaN   \n",
       "1  ZDC555F219123101EID_019  ZDC555F219123101EID_019     NaN   NaN   NaN   \n",
       "2  ZD883B2920010100G92_006  ZD883B2920010100G92_006     NaN   NaN   NaN   \n",
       "3  ZD883B2920010100G92_007  ZD883B2920010100G92_007     NaN   NaN   NaN   \n",
       "4  ZD883B2920010100G92_008  ZD883B2920010100G92_008     NaN   NaN   NaN   \n",
       "5  ZD88315D1912300149L_054  ZD88315D1912300149L_054     NaN   NaN   NaN   \n",
       "6  ZD88315D1912300149L_055  ZD88315D1912300149L_055     NaN   NaN   NaN   \n",
       "7  ZD88315D1912300149L_056  ZD88315D1912300149L_056     NaN   NaN   NaN   \n",
       "8  ZP0EBDB119122000YYE_299  ZP0EBDB119122000YYE_299     NaN   NaN   NaN   \n",
       "9  ZP0EBDB119122000YYE_300  ZP0EBDB119122000YYE_300     NaN   NaN   NaN   \n",
       "\n",
       "   tracheotomy               endo_t  endo_end SBT_time SBT_days  \n",
       "0            0  2020-01-01 09:02:59       0.0      NaN      NaN  \n",
       "1            0  2020-01-01 09:02:59       0.0      NaN      NaN  \n",
       "2            0  2020-01-01 11:03:21       0.0      NaN      NaN  \n",
       "3            0  2020-01-01 11:03:21       0.0      NaN      NaN  \n",
       "4            0  2020-01-01 11:03:21       0.0      NaN      NaN  \n",
       "5            0  2020-01-01 14:00:15       0.0      NaN      NaN  \n",
       "6            0  2020-01-01 14:00:15       0.0      NaN      NaN  \n",
       "7            0  2020-01-01 14:00:15       0.0      NaN      NaN  \n",
       "8            0  2020-01-02 09:08:53       0.0      NaN      NaN  \n",
       "9            0  2020-01-02 09:08:53       0.0      NaN      NaN  "
      ],
      "text/html": "<div>\n<style scoped>\n    .dataframe tbody tr th:only-of-type {\n        vertical-align: middle;\n    }\n\n    .dataframe tbody tr th {\n        vertical-align: top;\n    }\n\n    .dataframe thead th {\n        text-align: right;\n    }\n</style>\n<table border=\"1\" class=\"dataframe\">\n  <thead>\n    <tr style=\"text-align: right;\">\n      <th></th>\n      <th>PID</th>\n      <th>Record_t</th>\n      <th>Record_id</th>\n      <th>Resp_t</th>\n      <th>zdt_1</th>\n      <th>zpx_1</th>\n      <th>Heart_t</th>\n      <th>zdt_2</th>\n      <th>zpx_2</th>\n      <th>tracheotomy</th>\n      <th>endo_t</th>\n      <th>endo_end</th>\n      <th>SBT_time</th>\n      <th>SBT_days</th>\n    </tr>\n  </thead>\n  <tbody>\n    <tr>\n      <th>0</th>\n      <td>4109828</td>\n      <td>2020-01-01 08:00:16</td>\n      <td>ZDC555F219123101EID</td>\n      <td>2020-01-01 06:01:27</td>\n      <td>ZDC555F219123101EID_018</td>\n      <td>ZDC555F219123101EID_018</td>\n      <td>NaN</td>\n      <td>NaN</td>\n      <td>NaN</td>\n      <td>0</td>\n      <td>2020-01-01 09:02:59</td>\n      <td>0.0</td>\n      <td>NaN</td>\n      <td>NaN</td>\n    </tr>\n    <tr>\n      <th>1</th>\n      <td>4109828</td>\n      <td>2020-01-01 08:00:16</td>\n      <td>ZDC555F219123101EID</td>\n      <td>2020-01-01 07:44:06</td>\n      <td>ZDC555F219123101EID_019</td>\n      <td>ZDC555F219123101EID_019</td>\n      <td>NaN</td>\n      <td>NaN</td>\n      <td>NaN</td>\n      <td>0</td>\n      <td>2020-01-01 09:02:59</td>\n      <td>0.0</td>\n      <td>NaN</td>\n      <td>NaN</td>\n    </tr>\n    <tr>\n      <th>2</th>\n      <td>5568391</td>\n      <td>2020-01-01 10:14:32</td>\n      <td>ZD883B2920010100G92</td>\n      <td>2020-01-01 09:00:00</td>\n      <td>ZD883B2920010100G92_006</td>\n      <td>ZD883B2920010100G92_006</td>\n      <td>NaN</td>\n      <td>NaN</td>\n      <td>NaN</td>\n      <td>0</td>\n      <td>2020-01-01 11:03:21</td>\n      <td>0.0</td>\n      <td>NaN</td>\n      <td>NaN</td>\n    </tr>\n    <tr>\n      <th>3</th>\n      <td>5568391</td>\n      <td>2020-01-01 10:14:32</td>\n      <td>ZD883B2920010100G92</td>\n      <td>2020-01-01 10:00:00</td>\n      <td>ZD883B2920010100G92_007</td>\n      <td>ZD883B2920010100G92_007</td>\n      <td>NaN</td>\n      <td>NaN</td>\n      <td>NaN</td>\n      <td>0</td>\n      <td>2020-01-01 11:03:21</td>\n      <td>0.0</td>\n      <td>NaN</td>\n      <td>NaN</td>\n    </tr>\n    <tr>\n      <th>4</th>\n      <td>5568391</td>\n      <td>2020-01-01 11:03:21</td>\n      <td>ZD883B2920010100G92</td>\n      <td>2020-01-01 11:00:02</td>\n      <td>ZD883B2920010100G92_008</td>\n      <td>ZD883B2920010100G92_008</td>\n      <td>NaN</td>\n      <td>NaN</td>\n      <td>NaN</td>\n      <td>0</td>\n      <td>2020-01-01 11:03:21</td>\n      <td>0.0</td>\n      <td>NaN</td>\n      <td>NaN</td>\n    </tr>\n    <tr>\n      <th>5</th>\n      <td>5560751</td>\n      <td>2020-01-01 12:00:16</td>\n      <td>ZD88315D1912300149L</td>\n      <td>2020-01-01 10:55:10</td>\n      <td>ZD88315D1912300149L_054</td>\n      <td>ZD88315D1912300149L_054</td>\n      <td>NaN</td>\n      <td>NaN</td>\n      <td>NaN</td>\n      <td>0</td>\n      <td>2020-01-01 14:00:15</td>\n      <td>0.0</td>\n      <td>NaN</td>\n      <td>NaN</td>\n    </tr>\n    <tr>\n      <th>6</th>\n      <td>5560751</td>\n      <td>2020-01-01 12:00:16</td>\n      <td>ZD88315D1912300149L</td>\n      <td>2020-01-01 11:54:30</td>\n      <td>ZD88315D1912300149L_055</td>\n      <td>ZD88315D1912300149L_055</td>\n      <td>NaN</td>\n      <td>NaN</td>\n      <td>NaN</td>\n      <td>0</td>\n      <td>2020-01-01 14:00:15</td>\n      <td>0.0</td>\n      <td>NaN</td>\n      <td>NaN</td>\n    </tr>\n    <tr>\n      <th>7</th>\n      <td>5560751</td>\n      <td>2020-01-01 13:01:11</td>\n      <td>ZD88315D1912300149L</td>\n      <td>2020-01-01 12:45:32</td>\n      <td>ZD88315D1912300149L_056</td>\n      <td>ZD88315D1912300149L_056</td>\n      <td>NaN</td>\n      <td>NaN</td>\n      <td>NaN</td>\n      <td>0</td>\n      <td>2020-01-01 14:00:15</td>\n      <td>0.0</td>\n      <td>NaN</td>\n      <td>NaN</td>\n    </tr>\n    <tr>\n      <th>8</th>\n      <td>3044500</td>\n      <td>2020-01-02 07:22:28</td>\n      <td>ZP0EBDB119122000YYE</td>\n      <td>2020-01-02 07:00:00</td>\n      <td>ZP0EBDB119122000YYE_299</td>\n      <td>ZP0EBDB119122000YYE_299</td>\n      <td>NaN</td>\n      <td>NaN</td>\n      <td>NaN</td>\n      <td>0</td>\n      <td>2020-01-02 09:08:53</td>\n      <td>0.0</td>\n      <td>NaN</td>\n      <td>NaN</td>\n    </tr>\n    <tr>\n      <th>9</th>\n      <td>3044500</td>\n      <td>2020-01-02 08:47:06</td>\n      <td>ZP0EBDB119122000YYE</td>\n      <td>2020-01-02 08:41:51</td>\n      <td>ZP0EBDB119122000YYE_300</td>\n      <td>ZP0EBDB119122000YYE_300</td>\n      <td>NaN</td>\n      <td>NaN</td>\n      <td>NaN</td>\n      <td>0</td>\n      <td>2020-01-02 09:08:53</td>\n      <td>0.0</td>\n      <td>NaN</td>\n      <td>NaN</td>\n    </tr>\n  </tbody>\n</table>\n</div>"
     },
     "metadata": {},
     "execution_count": 19
    }
   ],
   "source": [
    "df_1.head(10)"
   ]
  },
  {
   "cell_type": "code",
   "execution_count": 7,
   "metadata": {},
   "outputs": [],
   "source": [
    "df_1 = df_1.sort_values(by=['Record_t','Resp_t'])\n",
    "df_1 = df_1.reset_index(drop=True)"
   ]
  },
  {
   "cell_type": "code",
   "execution_count": 8,
   "metadata": {},
   "outputs": [
    {
     "output_type": "execute_result",
     "data": {
      "text/plain": [
       "       PID             Record_t            Record_id               Resp_t  \\\n",
       "0  4109828  2020-01-01 08:00:16  ZDC555F219123101EID  2020-01-01 06:01:27   \n",
       "1  4109828  2020-01-01 08:00:16  ZDC555F219123101EID  2020-01-01 07:44:06   \n",
       "2  5568391  2020-01-01 10:14:32  ZD883B2920010100G92  2020-01-01 09:00:00   \n",
       "3  5568391  2020-01-01 10:14:32  ZD883B2920010100G92  2020-01-01 10:00:00   \n",
       "4  5568391  2020-01-01 11:03:21  ZD883B2920010100G92  2020-01-01 11:00:02   \n",
       "\n",
       "                     zdt_1                    zpx_1 Heart_t zdt_2 zpx_2  \\\n",
       "0  ZDC555F219123101EID_018  ZDC555F219123101EID_018     NaN   NaN   NaN   \n",
       "1  ZDC555F219123101EID_019  ZDC555F219123101EID_019     NaN   NaN   NaN   \n",
       "2  ZD883B2920010100G92_006  ZD883B2920010100G92_006     NaN   NaN   NaN   \n",
       "3  ZD883B2920010100G92_007  ZD883B2920010100G92_007     NaN   NaN   NaN   \n",
       "4  ZD883B2920010100G92_008  ZD883B2920010100G92_008     NaN   NaN   NaN   \n",
       "\n",
       "   tracheotomy               endo_t  endo_end SBT_time SBT_days  \n",
       "0            0  2020-01-01 09:02:59       0.0      NaN      NaN  \n",
       "1            0  2020-01-01 09:02:59       0.0      NaN      NaN  \n",
       "2            0  2020-01-01 11:03:21       0.0      NaN      NaN  \n",
       "3            0  2020-01-01 11:03:21       0.0      NaN      NaN  \n",
       "4            0  2020-01-01 11:03:21       0.0      NaN      NaN  "
      ],
      "text/html": "<div>\n<style scoped>\n    .dataframe tbody tr th:only-of-type {\n        vertical-align: middle;\n    }\n\n    .dataframe tbody tr th {\n        vertical-align: top;\n    }\n\n    .dataframe thead th {\n        text-align: right;\n    }\n</style>\n<table border=\"1\" class=\"dataframe\">\n  <thead>\n    <tr style=\"text-align: right;\">\n      <th></th>\n      <th>PID</th>\n      <th>Record_t</th>\n      <th>Record_id</th>\n      <th>Resp_t</th>\n      <th>zdt_1</th>\n      <th>zpx_1</th>\n      <th>Heart_t</th>\n      <th>zdt_2</th>\n      <th>zpx_2</th>\n      <th>tracheotomy</th>\n      <th>endo_t</th>\n      <th>endo_end</th>\n      <th>SBT_time</th>\n      <th>SBT_days</th>\n    </tr>\n  </thead>\n  <tbody>\n    <tr>\n      <th>0</th>\n      <td>4109828</td>\n      <td>2020-01-01 08:00:16</td>\n      <td>ZDC555F219123101EID</td>\n      <td>2020-01-01 06:01:27</td>\n      <td>ZDC555F219123101EID_018</td>\n      <td>ZDC555F219123101EID_018</td>\n      <td>NaN</td>\n      <td>NaN</td>\n      <td>NaN</td>\n      <td>0</td>\n      <td>2020-01-01 09:02:59</td>\n      <td>0.0</td>\n      <td>NaN</td>\n      <td>NaN</td>\n    </tr>\n    <tr>\n      <th>1</th>\n      <td>4109828</td>\n      <td>2020-01-01 08:00:16</td>\n      <td>ZDC555F219123101EID</td>\n      <td>2020-01-01 07:44:06</td>\n      <td>ZDC555F219123101EID_019</td>\n      <td>ZDC555F219123101EID_019</td>\n      <td>NaN</td>\n      <td>NaN</td>\n      <td>NaN</td>\n      <td>0</td>\n      <td>2020-01-01 09:02:59</td>\n      <td>0.0</td>\n      <td>NaN</td>\n      <td>NaN</td>\n    </tr>\n    <tr>\n      <th>2</th>\n      <td>5568391</td>\n      <td>2020-01-01 10:14:32</td>\n      <td>ZD883B2920010100G92</td>\n      <td>2020-01-01 09:00:00</td>\n      <td>ZD883B2920010100G92_006</td>\n      <td>ZD883B2920010100G92_006</td>\n      <td>NaN</td>\n      <td>NaN</td>\n      <td>NaN</td>\n      <td>0</td>\n      <td>2020-01-01 11:03:21</td>\n      <td>0.0</td>\n      <td>NaN</td>\n      <td>NaN</td>\n    </tr>\n    <tr>\n      <th>3</th>\n      <td>5568391</td>\n      <td>2020-01-01 10:14:32</td>\n      <td>ZD883B2920010100G92</td>\n      <td>2020-01-01 10:00:00</td>\n      <td>ZD883B2920010100G92_007</td>\n      <td>ZD883B2920010100G92_007</td>\n      <td>NaN</td>\n      <td>NaN</td>\n      <td>NaN</td>\n      <td>0</td>\n      <td>2020-01-01 11:03:21</td>\n      <td>0.0</td>\n      <td>NaN</td>\n      <td>NaN</td>\n    </tr>\n    <tr>\n      <th>4</th>\n      <td>5568391</td>\n      <td>2020-01-01 11:03:21</td>\n      <td>ZD883B2920010100G92</td>\n      <td>2020-01-01 11:00:02</td>\n      <td>ZD883B2920010100G92_008</td>\n      <td>ZD883B2920010100G92_008</td>\n      <td>NaN</td>\n      <td>NaN</td>\n      <td>NaN</td>\n      <td>0</td>\n      <td>2020-01-01 11:03:21</td>\n      <td>0.0</td>\n      <td>NaN</td>\n      <td>NaN</td>\n    </tr>\n  </tbody>\n</table>\n</div>"
     },
     "metadata": {},
     "execution_count": 8
    }
   ],
   "source": [
    "df_1.head(5)"
   ]
  },
  {
   "cell_type": "code",
   "execution_count": 9,
   "metadata": {},
   "outputs": [],
   "source": [
    "pd.DataFrame.to_csv(df_1,r'..\\Data\\Result\\rsbi_c.csv',index=False)"
   ]
  },
  {
   "cell_type": "code",
   "execution_count": 10,
   "metadata": {},
   "outputs": [
    {
     "output_type": "execute_result",
     "data": {
      "text/plain": [
       "1326"
      ]
     },
     "metadata": {},
     "execution_count": 10
    }
   ],
   "source": [
    "df_1['PID'].unique().size"
   ]
  },
  {
   "cell_type": "code",
   "execution_count": 11,
   "metadata": {},
   "outputs": [],
   "source": [
    "df_time = pd.read_csv(r'..\\Data\\Result\\time_miss.csv')"
   ]
  },
  {
   "cell_type": "code",
   "execution_count": 12,
   "metadata": {},
   "outputs": [
    {
     "output_type": "execute_result",
     "data": {
      "text/plain": [
       "84"
      ]
     },
     "metadata": {},
     "execution_count": 12
    }
   ],
   "source": [
    "df_time['patient_id'].unique().size"
   ]
  },
  {
   "cell_type": "code",
   "execution_count": 13,
   "metadata": {},
   "outputs": [
    {
     "output_type": "execute_result",
     "data": {
      "text/plain": [
       "(84, 15)"
      ]
     },
     "metadata": {},
     "execution_count": 13
    }
   ],
   "source": [
    "df_time.shape"
   ]
  },
  {
   "cell_type": "code",
   "execution_count": null,
   "metadata": {},
   "outputs": [],
   "source": [
    "df_1_gp"
   ]
  }
 ]
}