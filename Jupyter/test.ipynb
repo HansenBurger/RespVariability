{
 "metadata": {
  "language_info": {
   "codemirror_mode": {
    "name": "ipython",
    "version": 3
   },
   "file_extension": ".py",
   "mimetype": "text/x-python",
   "name": "python",
   "nbconvert_exporter": "python",
   "pygments_lexer": "ipython3",
   "version": "3.8.8"
  },
  "orig_nbformat": 4,
  "kernelspec": {
   "name": "python3",
   "display_name": "Python 3.8.8 64-bit ('DF_process': conda)"
  },
  "interpreter": {
   "hash": "fc883ce4be776a00668950b7133d030a15826a94400e8f6b01ca8fd8f53ab3b3"
  }
 },
 "nbformat": 4,
 "nbformat_minor": 2,
 "cells": [
  {
   "cell_type": "code",
   "execution_count": 1,
   "metadata": {},
   "outputs": [
    {
     "output_type": "stream",
     "name": "stderr",
     "text": [
      "C:\\Main\\Soft\\Conda\\envs\\DF_process\\lib\\site-packages\\IPython\\core\\interactiveshell.py:3165: DtypeWarning: Columns (12,13,14,15,17,18,19,20,165,166,167,168,171,172,173,174,175,176,177,178,179,180,181,183,185,186) have mixed types.Specify dtype option on import or set low_memory=False.\n  has_raised = await self.run_ast_nodes(code_ast.body, cell_name,\n"
     ]
    }
   ],
   "source": [
    "import pandas as pd\n",
    "from datetime import datetime\n",
    "\n",
    "format_concat_loc = r\"..\\Data\\Format\\DATA.csv\"\n",
    "format_baguan_loc = r\"..\\Data\\Format\\vent_baguan.csv\"\n",
    "\n",
    "df_concat = pd.read_csv(format_concat_loc)\n",
    "df_baguan = pd.read_csv(format_baguan_loc)"
   ]
  },
  {
   "cell_type": "code",
   "execution_count": 2,
   "metadata": {},
   "outputs": [],
   "source": [
    "df_concat.dropna(axis=0, how=\"any\", subset=[\"记录时间_1\"], inplace=True)\n",
    "df_concat.sort_values(by=\"patient_id\", ascending=False, inplace=True)\n",
    "df_concat.reset_index(drop=True, inplace=True)\n",
    "\n",
    "df_baguan.sort_values(by=\"patient_id\", ascending=False, inplace=True)\n",
    "df_baguan.reset_index(drop=True, inplace=True)\n",
    "df_baguan.drop(columns = 'Unnamed: 0',inplace=True)"
   ]
  },
  {
   "cell_type": "code",
   "execution_count": 3,
   "metadata": {},
   "outputs": [],
   "source": [
    "pd.set_option('display.max_columns', 60)\n",
    "pd.set_option('display.max_rows', 60)"
   ]
  },
  {
   "cell_type": "code",
   "execution_count": 4,
   "metadata": {},
   "outputs": [],
   "source": [
    "def TimeShift(df_name, dt_format, column_names):\n",
    "    for i in df_name.columns:\n",
    "        if i in column_names:\n",
    "            if len(df_name.loc[0, i].split(\"-\")) == 1:\n",
    "                df_name[i] = pd.to_datetime(df_name[i], format=dt_format[0])\n",
    "            else:\n",
    "                df_name[i] = pd.to_datetime(df_name[i], format=dt_format[1])\n",
    "\n",
    "\n",
    "timecol_names = [\"入ICU时间\", \"出ICU时间\", \"上机时间\", \"撤机\", \"record_time\", \"记录时间_1\"]\n",
    "datetime_format = [\"%Y/%m/%d %X\", \"%Y-%m-%d %X\"]\n",
    "\n",
    "TimeShift(df_concat, datetime_format, timecol_names)\n",
    "TimeShift(df_baguan, datetime_format, timecol_names)"
   ]
  },
  {
   "cell_type": "code",
   "execution_count": 5,
   "metadata": {},
   "outputs": [
    {
     "output_type": "execute_result",
     "data": {
      "text/plain": [
       "   patient_id              入ICU时间              出ICU时间  气切（气切=1）  有创（有创=1）  \\\n",
       "0   8180893.0 2020-07-26 17:00:00 2020-08-04 10:00:00         0         1   \n",
       "1   8180893.0 2020-07-26 17:00:00 2020-08-04 10:00:00         0         1   \n",
       "2   8158809.0 2020-06-28 19:00:00 2020-06-29 11:00:00         0         1   \n",
       "3   8154615.0 2020-04-30 23:00:00 2020-05-01 07:00:00         0         1   \n",
       "4   8152029.0 2020-02-15 14:00:00 2020-02-21 14:00:00         0         1   \n",
       "\n",
       "                 上机时间                插管时间                拔管时间  拔管结局（失败=1）  \\\n",
       "0 2020-07-26 17:15:18  2020/7/27 14:28:41  2020/7/27 15:02:22         0.0   \n",
       "1 2020-07-26 17:15:18  2020/7/26 17:15:18  2020/7/26 20:00:17         1.0   \n",
       "2 2020-06-28 21:10:25  2020/6/28 21:10:25  2020/6/29 08:34:48         0.0   \n",
       "3 2020-04-30 23:25:19  2020/4/30 23:25:19   2020/5/1 06:00:15         0.0   \n",
       "4 2020-02-15 14:53:19  2020/2/18 10:00:19  2020/2/18 14:00:15         0.0   \n",
       "\n",
       "                 撤机时间 第一次SBT时间       28MVfreeday           MVtime  \\\n",
       "0  2020/7/27 15:02:22      NaN  27 days 02:12:56  0 days 21:47:04   \n",
       "1  2020/7/27 15:02:22      NaN  27 days 02:12:56  0 days 21:47:04   \n",
       "2  2020/6/29 08:34:48      NaN  27 days 12:35:37  0 days 11:24:23   \n",
       "3   2020/5/1 06:00:15      NaN  27 days 17:25:04  0 days 06:34:56   \n",
       "4  2020/2/18 14:00:15      NaN  25 days 00:53:04  2 days 23:06:56   \n",
       "\n",
       "  第一次SBT到撤机的时间（天）  \n",
       "0             NaN  \n",
       "1             NaN  \n",
       "2             NaN  \n",
       "3             NaN  \n",
       "4             NaN  "
      ],
      "text/html": "<div>\n<style scoped>\n    .dataframe tbody tr th:only-of-type {\n        vertical-align: middle;\n    }\n\n    .dataframe tbody tr th {\n        vertical-align: top;\n    }\n\n    .dataframe thead th {\n        text-align: right;\n    }\n</style>\n<table border=\"1\" class=\"dataframe\">\n  <thead>\n    <tr style=\"text-align: right;\">\n      <th></th>\n      <th>patient_id</th>\n      <th>入ICU时间</th>\n      <th>出ICU时间</th>\n      <th>气切（气切=1）</th>\n      <th>有创（有创=1）</th>\n      <th>上机时间</th>\n      <th>插管时间</th>\n      <th>拔管时间</th>\n      <th>拔管结局（失败=1）</th>\n      <th>撤机时间</th>\n      <th>第一次SBT时间</th>\n      <th>28MVfreeday</th>\n      <th>MVtime</th>\n      <th>第一次SBT到撤机的时间（天）</th>\n    </tr>\n  </thead>\n  <tbody>\n    <tr>\n      <th>0</th>\n      <td>8180893.0</td>\n      <td>2020-07-26 17:00:00</td>\n      <td>2020-08-04 10:00:00</td>\n      <td>0</td>\n      <td>1</td>\n      <td>2020-07-26 17:15:18</td>\n      <td>2020/7/27 14:28:41</td>\n      <td>2020/7/27 15:02:22</td>\n      <td>0.0</td>\n      <td>2020/7/27 15:02:22</td>\n      <td>NaN</td>\n      <td>27 days 02:12:56</td>\n      <td>0 days 21:47:04</td>\n      <td>NaN</td>\n    </tr>\n    <tr>\n      <th>1</th>\n      <td>8180893.0</td>\n      <td>2020-07-26 17:00:00</td>\n      <td>2020-08-04 10:00:00</td>\n      <td>0</td>\n      <td>1</td>\n      <td>2020-07-26 17:15:18</td>\n      <td>2020/7/26 17:15:18</td>\n      <td>2020/7/26 20:00:17</td>\n      <td>1.0</td>\n      <td>2020/7/27 15:02:22</td>\n      <td>NaN</td>\n      <td>27 days 02:12:56</td>\n      <td>0 days 21:47:04</td>\n      <td>NaN</td>\n    </tr>\n    <tr>\n      <th>2</th>\n      <td>8158809.0</td>\n      <td>2020-06-28 19:00:00</td>\n      <td>2020-06-29 11:00:00</td>\n      <td>0</td>\n      <td>1</td>\n      <td>2020-06-28 21:10:25</td>\n      <td>2020/6/28 21:10:25</td>\n      <td>2020/6/29 08:34:48</td>\n      <td>0.0</td>\n      <td>2020/6/29 08:34:48</td>\n      <td>NaN</td>\n      <td>27 days 12:35:37</td>\n      <td>0 days 11:24:23</td>\n      <td>NaN</td>\n    </tr>\n    <tr>\n      <th>3</th>\n      <td>8154615.0</td>\n      <td>2020-04-30 23:00:00</td>\n      <td>2020-05-01 07:00:00</td>\n      <td>0</td>\n      <td>1</td>\n      <td>2020-04-30 23:25:19</td>\n      <td>2020/4/30 23:25:19</td>\n      <td>2020/5/1 06:00:15</td>\n      <td>0.0</td>\n      <td>2020/5/1 06:00:15</td>\n      <td>NaN</td>\n      <td>27 days 17:25:04</td>\n      <td>0 days 06:34:56</td>\n      <td>NaN</td>\n    </tr>\n    <tr>\n      <th>4</th>\n      <td>8152029.0</td>\n      <td>2020-02-15 14:00:00</td>\n      <td>2020-02-21 14:00:00</td>\n      <td>0</td>\n      <td>1</td>\n      <td>2020-02-15 14:53:19</td>\n      <td>2020/2/18 10:00:19</td>\n      <td>2020/2/18 14:00:15</td>\n      <td>0.0</td>\n      <td>2020/2/18 14:00:15</td>\n      <td>NaN</td>\n      <td>25 days 00:53:04</td>\n      <td>2 days 23:06:56</td>\n      <td>NaN</td>\n    </tr>\n  </tbody>\n</table>\n</div>"
     },
     "metadata": {},
     "execution_count": 5
    }
   ],
   "source": [
    "df_baguan.head()"
   ]
  },
  {
   "cell_type": "code",
   "execution_count": 6,
   "metadata": {},
   "outputs": [
    {
     "output_type": "execute_result",
     "data": {
      "text/plain": [
       "   patient_id  icunum              入ICU时间              出ICU时间  气切  是否有创  \\\n",
       "0   8158893.0       1 2020-06-29 16:00:00 2020-08-06 21:00:00   1     1   \n",
       "1   8158893.0       1 2020-06-29 16:00:00 2020-08-06 21:00:00   1     1   \n",
       "2   8158893.0       1 2020-06-29 16:00:00 2020-08-06 21:00:00   1     1   \n",
       "3   8158893.0       1 2020-06-29 16:00:00 2020-08-06 21:00:00   1     1   \n",
       "4   8158893.0       1 2020-06-29 16:00:00 2020-08-06 21:00:00   1     1   \n",
       "\n",
       "                 上机时间                  撤机 icu_name            record_id  \\\n",
       "0 2020-06-30 03:00:11 2020-08-06 18:00:17    ICU4F  ZP0EBD8120062900DSE   \n",
       "1 2020-06-30 03:00:11 2020-08-06 18:00:17    ICU4F  ZP0EBD8120062900DSE   \n",
       "2 2020-06-30 03:00:11 2020-08-06 18:00:17    ICU4F  ZP0EBDC520062900DSE   \n",
       "3 2020-06-30 03:00:11 2020-08-06 18:00:17    ICU4F  ZP0EBDC520062900DSE   \n",
       "4 2020-06-30 03:00:11 2020-08-06 18:00:17    ICU4F  ZP0EBDC520062900DSE   \n",
       "\n",
       "          record_time  ventnum              记录时间_1                RID_1  \\\n",
       "0 2020-08-06 16:00:16        1 2020-08-06 16:00:02  ZP0EBD8120062900DSE   \n",
       "1 2020-07-18 17:54:16        1 2020-07-18 17:00:00  ZP0EBD8120062900DSE   \n",
       "2 2020-07-12 22:00:16        1 2020-07-12 21:29:32  ZP0EBDC520062900DSE   \n",
       "3 2020-07-12 22:00:16        1 2020-07-12 20:47:59  ZP0EBDC520062900DSE   \n",
       "4 2020-07-12 20:00:15        1 2020-07-12 19:00:02  ZP0EBDC520062900DSE   \n",
       "\n",
       "                     zdt_1                    zpx_1  MODEL_1 记录时间_2 RID_2  \\\n",
       "0  ZP0EBD8120062900DSE_912  ZP0EBD8120062900DSE_912      1.0    NaN   NaN   \n",
       "1  ZP0EBD8120062900DSE_457  ZP0EBD8120062900DSE_457      1.0    NaN   NaN   \n",
       "2  ZP0EBDC520062900DSE_317  ZP0EBDC520062900DSE_317      1.0    NaN   NaN   \n",
       "3  ZP0EBDC520062900DSE_316  ZP0EBDC520062900DSE_316      1.0    NaN   NaN   \n",
       "4  ZP0EBDC520062900DSE_315  ZP0EBDC520062900DSE_315      1.0    NaN   NaN   \n",
       "\n",
       "  zdt_2 zpx_2  MODEL_2  record_flag   data_index  \\\n",
       "0   NaN   NaN      NaN          1.0  474022528.0   \n",
       "1   NaN   NaN      NaN         25.0  487228608.0   \n",
       "2   NaN   NaN      NaN          1.0  196117232.0   \n",
       "3   NaN   NaN      NaN          1.0  196117232.0   \n",
       "4   NaN   NaN      NaN          1.0  497058464.0   \n",
       "\n",
       "                             device_ip Device Type      Mode  Pinsp  Psupp  \\\n",
       "0  F0-FE-6B-5D-F8-D1&F0-FE-6B-5D-F8-D1  PB840   IV     AC/PC   23.0    0.0   \n",
       "1  F0-FE-6B-5D-F8-D1&F0-FE-6B-5D-F8-D1  PB840   IV  SPONT/PC   18.0   15.0   \n",
       "2  F0-FE-6B-5D-FC-15&F0-FE-6B-5D-FC-15  PB840   IV     AC/PC   18.0    0.0   \n",
       "3  F0-FE-6B-5D-FC-15&F0-FE-6B-5D-FC-15  PB840   IV     AC/PC   18.0    0.0   \n",
       "4  F0-FE-6B-5D-FC-15&F0-FE-6B-5D-FC-15  PB840   IV     AC/PC   18.0    0.0   \n",
       "\n",
       "   ...  同型半胱氨酸  前降钙素  Leak  PEF  VC  MIP   抬头   握力  Resp_MV  Resp_P01  \\\n",
       "0  ...     NaN   NaN   NaN  NaN NaN  NaN  NaN  NaN      NaN       NaN   \n",
       "1  ...     NaN   NaN   NaN  NaN NaN  NaN  NaN  NaN      NaN       NaN   \n",
       "2  ...     NaN   NaN   NaN  NaN NaN  NaN  NaN  NaN      NaN       NaN   \n",
       "3  ...     NaN   NaN   NaN  NaN NaN  NaN  NaN  NaN      NaN       NaN   \n",
       "4  ...     NaN   NaN   NaN  NaN NaN  NaN  NaN  NaN      NaN       NaN   \n",
       "\n",
       "   Resp_PEEP  Resp_Ps  辅助呼吸肌评分  RSB  ABG_HCO3  ABG_BE  ABG_PACO2  ABG_PAO2  \\\n",
       "0        NaN      NaN      NaN  NaN       NaN     NaN        NaN       NaN   \n",
       "1        NaN      NaN      NaN  NaN       NaN     NaN        NaN       NaN   \n",
       "2        NaN      NaN      NaN  NaN       NaN     NaN        NaN       NaN   \n",
       "3        NaN      NaN      NaN  NaN       NaN     NaN        NaN       NaN   \n",
       "4        NaN      NaN      NaN  NaN       NaN     NaN        NaN       NaN   \n",
       "\n",
       "   ABG_PH  ABG_FIO2  Resp_VT  Resp_MV_1  Resp_PEEP_1  Resp_Ps_1  Resp_Pi  \\\n",
       "0     NaN       NaN      NaN        NaN          NaN        NaN      NaN   \n",
       "1     NaN       NaN      NaN        NaN          NaN        NaN      NaN   \n",
       "2     NaN       NaN      NaN        NaN          NaN        NaN      NaN   \n",
       "3     NaN       NaN      NaN        NaN          NaN        NaN      NaN   \n",
       "4     NaN       NaN      NaN        NaN          NaN        NaN      NaN   \n",
       "\n",
       "   Resp_Mode  Param_C  Param_R  Param_P01  Param_Ppl  \n",
       "0        NaN      NaN      NaN        NaN        NaN  \n",
       "1        NaN      NaN      NaN        NaN        NaN  \n",
       "2        NaN      NaN      NaN        NaN        NaN  \n",
       "3        NaN      NaN      NaN        NaN        NaN  \n",
       "4        NaN      NaN      NaN        NaN        NaN  \n",
       "\n",
       "[5 rows x 190 columns]"
      ],
      "text/html": "<div>\n<style scoped>\n    .dataframe tbody tr th:only-of-type {\n        vertical-align: middle;\n    }\n\n    .dataframe tbody tr th {\n        vertical-align: top;\n    }\n\n    .dataframe thead th {\n        text-align: right;\n    }\n</style>\n<table border=\"1\" class=\"dataframe\">\n  <thead>\n    <tr style=\"text-align: right;\">\n      <th></th>\n      <th>patient_id</th>\n      <th>icunum</th>\n      <th>入ICU时间</th>\n      <th>出ICU时间</th>\n      <th>气切</th>\n      <th>是否有创</th>\n      <th>上机时间</th>\n      <th>撤机</th>\n      <th>icu_name</th>\n      <th>record_id</th>\n      <th>record_time</th>\n      <th>ventnum</th>\n      <th>记录时间_1</th>\n      <th>RID_1</th>\n      <th>zdt_1</th>\n      <th>zpx_1</th>\n      <th>MODEL_1</th>\n      <th>记录时间_2</th>\n      <th>RID_2</th>\n      <th>zdt_2</th>\n      <th>zpx_2</th>\n      <th>MODEL_2</th>\n      <th>record_flag</th>\n      <th>data_index</th>\n      <th>device_ip</th>\n      <th>Device</th>\n      <th>Type</th>\n      <th>Mode</th>\n      <th>Pinsp</th>\n      <th>Psupp</th>\n      <th>...</th>\n      <th>同型半胱氨酸</th>\n      <th>前降钙素</th>\n      <th>Leak</th>\n      <th>PEF</th>\n      <th>VC</th>\n      <th>MIP</th>\n      <th>抬头</th>\n      <th>握力</th>\n      <th>Resp_MV</th>\n      <th>Resp_P01</th>\n      <th>Resp_PEEP</th>\n      <th>Resp_Ps</th>\n      <th>辅助呼吸肌评分</th>\n      <th>RSB</th>\n      <th>ABG_HCO3</th>\n      <th>ABG_BE</th>\n      <th>ABG_PACO2</th>\n      <th>ABG_PAO2</th>\n      <th>ABG_PH</th>\n      <th>ABG_FIO2</th>\n      <th>Resp_VT</th>\n      <th>Resp_MV_1</th>\n      <th>Resp_PEEP_1</th>\n      <th>Resp_Ps_1</th>\n      <th>Resp_Pi</th>\n      <th>Resp_Mode</th>\n      <th>Param_C</th>\n      <th>Param_R</th>\n      <th>Param_P01</th>\n      <th>Param_Ppl</th>\n    </tr>\n  </thead>\n  <tbody>\n    <tr>\n      <th>0</th>\n      <td>8158893.0</td>\n      <td>1</td>\n      <td>2020-06-29 16:00:00</td>\n      <td>2020-08-06 21:00:00</td>\n      <td>1</td>\n      <td>1</td>\n      <td>2020-06-30 03:00:11</td>\n      <td>2020-08-06 18:00:17</td>\n      <td>ICU4F</td>\n      <td>ZP0EBD8120062900DSE</td>\n      <td>2020-08-06 16:00:16</td>\n      <td>1</td>\n      <td>2020-08-06 16:00:02</td>\n      <td>ZP0EBD8120062900DSE</td>\n      <td>ZP0EBD8120062900DSE_912</td>\n      <td>ZP0EBD8120062900DSE_912</td>\n      <td>1.0</td>\n      <td>NaN</td>\n      <td>NaN</td>\n      <td>NaN</td>\n      <td>NaN</td>\n      <td>NaN</td>\n      <td>1.0</td>\n      <td>474022528.0</td>\n      <td>F0-FE-6B-5D-F8-D1&amp;F0-FE-6B-5D-F8-D1</td>\n      <td>PB840</td>\n      <td>IV</td>\n      <td>AC/PC</td>\n      <td>23.0</td>\n      <td>0.0</td>\n      <td>...</td>\n      <td>NaN</td>\n      <td>NaN</td>\n      <td>NaN</td>\n      <td>NaN</td>\n      <td>NaN</td>\n      <td>NaN</td>\n      <td>NaN</td>\n      <td>NaN</td>\n      <td>NaN</td>\n      <td>NaN</td>\n      <td>NaN</td>\n      <td>NaN</td>\n      <td>NaN</td>\n      <td>NaN</td>\n      <td>NaN</td>\n      <td>NaN</td>\n      <td>NaN</td>\n      <td>NaN</td>\n      <td>NaN</td>\n      <td>NaN</td>\n      <td>NaN</td>\n      <td>NaN</td>\n      <td>NaN</td>\n      <td>NaN</td>\n      <td>NaN</td>\n      <td>NaN</td>\n      <td>NaN</td>\n      <td>NaN</td>\n      <td>NaN</td>\n      <td>NaN</td>\n    </tr>\n    <tr>\n      <th>1</th>\n      <td>8158893.0</td>\n      <td>1</td>\n      <td>2020-06-29 16:00:00</td>\n      <td>2020-08-06 21:00:00</td>\n      <td>1</td>\n      <td>1</td>\n      <td>2020-06-30 03:00:11</td>\n      <td>2020-08-06 18:00:17</td>\n      <td>ICU4F</td>\n      <td>ZP0EBD8120062900DSE</td>\n      <td>2020-07-18 17:54:16</td>\n      <td>1</td>\n      <td>2020-07-18 17:00:00</td>\n      <td>ZP0EBD8120062900DSE</td>\n      <td>ZP0EBD8120062900DSE_457</td>\n      <td>ZP0EBD8120062900DSE_457</td>\n      <td>1.0</td>\n      <td>NaN</td>\n      <td>NaN</td>\n      <td>NaN</td>\n      <td>NaN</td>\n      <td>NaN</td>\n      <td>25.0</td>\n      <td>487228608.0</td>\n      <td>F0-FE-6B-5D-F8-D1&amp;F0-FE-6B-5D-F8-D1</td>\n      <td>PB840</td>\n      <td>IV</td>\n      <td>SPONT/PC</td>\n      <td>18.0</td>\n      <td>15.0</td>\n      <td>...</td>\n      <td>NaN</td>\n      <td>NaN</td>\n      <td>NaN</td>\n      <td>NaN</td>\n      <td>NaN</td>\n      <td>NaN</td>\n      <td>NaN</td>\n      <td>NaN</td>\n      <td>NaN</td>\n      <td>NaN</td>\n      <td>NaN</td>\n      <td>NaN</td>\n      <td>NaN</td>\n      <td>NaN</td>\n      <td>NaN</td>\n      <td>NaN</td>\n      <td>NaN</td>\n      <td>NaN</td>\n      <td>NaN</td>\n      <td>NaN</td>\n      <td>NaN</td>\n      <td>NaN</td>\n      <td>NaN</td>\n      <td>NaN</td>\n      <td>NaN</td>\n      <td>NaN</td>\n      <td>NaN</td>\n      <td>NaN</td>\n      <td>NaN</td>\n      <td>NaN</td>\n    </tr>\n    <tr>\n      <th>2</th>\n      <td>8158893.0</td>\n      <td>1</td>\n      <td>2020-06-29 16:00:00</td>\n      <td>2020-08-06 21:00:00</td>\n      <td>1</td>\n      <td>1</td>\n      <td>2020-06-30 03:00:11</td>\n      <td>2020-08-06 18:00:17</td>\n      <td>ICU4F</td>\n      <td>ZP0EBDC520062900DSE</td>\n      <td>2020-07-12 22:00:16</td>\n      <td>1</td>\n      <td>2020-07-12 21:29:32</td>\n      <td>ZP0EBDC520062900DSE</td>\n      <td>ZP0EBDC520062900DSE_317</td>\n      <td>ZP0EBDC520062900DSE_317</td>\n      <td>1.0</td>\n      <td>NaN</td>\n      <td>NaN</td>\n      <td>NaN</td>\n      <td>NaN</td>\n      <td>NaN</td>\n      <td>1.0</td>\n      <td>196117232.0</td>\n      <td>F0-FE-6B-5D-FC-15&amp;F0-FE-6B-5D-FC-15</td>\n      <td>PB840</td>\n      <td>IV</td>\n      <td>AC/PC</td>\n      <td>18.0</td>\n      <td>0.0</td>\n      <td>...</td>\n      <td>NaN</td>\n      <td>NaN</td>\n      <td>NaN</td>\n      <td>NaN</td>\n      <td>NaN</td>\n      <td>NaN</td>\n      <td>NaN</td>\n      <td>NaN</td>\n      <td>NaN</td>\n      <td>NaN</td>\n      <td>NaN</td>\n      <td>NaN</td>\n      <td>NaN</td>\n      <td>NaN</td>\n      <td>NaN</td>\n      <td>NaN</td>\n      <td>NaN</td>\n      <td>NaN</td>\n      <td>NaN</td>\n      <td>NaN</td>\n      <td>NaN</td>\n      <td>NaN</td>\n      <td>NaN</td>\n      <td>NaN</td>\n      <td>NaN</td>\n      <td>NaN</td>\n      <td>NaN</td>\n      <td>NaN</td>\n      <td>NaN</td>\n      <td>NaN</td>\n    </tr>\n    <tr>\n      <th>3</th>\n      <td>8158893.0</td>\n      <td>1</td>\n      <td>2020-06-29 16:00:00</td>\n      <td>2020-08-06 21:00:00</td>\n      <td>1</td>\n      <td>1</td>\n      <td>2020-06-30 03:00:11</td>\n      <td>2020-08-06 18:00:17</td>\n      <td>ICU4F</td>\n      <td>ZP0EBDC520062900DSE</td>\n      <td>2020-07-12 22:00:16</td>\n      <td>1</td>\n      <td>2020-07-12 20:47:59</td>\n      <td>ZP0EBDC520062900DSE</td>\n      <td>ZP0EBDC520062900DSE_316</td>\n      <td>ZP0EBDC520062900DSE_316</td>\n      <td>1.0</td>\n      <td>NaN</td>\n      <td>NaN</td>\n      <td>NaN</td>\n      <td>NaN</td>\n      <td>NaN</td>\n      <td>1.0</td>\n      <td>196117232.0</td>\n      <td>F0-FE-6B-5D-FC-15&amp;F0-FE-6B-5D-FC-15</td>\n      <td>PB840</td>\n      <td>IV</td>\n      <td>AC/PC</td>\n      <td>18.0</td>\n      <td>0.0</td>\n      <td>...</td>\n      <td>NaN</td>\n      <td>NaN</td>\n      <td>NaN</td>\n      <td>NaN</td>\n      <td>NaN</td>\n      <td>NaN</td>\n      <td>NaN</td>\n      <td>NaN</td>\n      <td>NaN</td>\n      <td>NaN</td>\n      <td>NaN</td>\n      <td>NaN</td>\n      <td>NaN</td>\n      <td>NaN</td>\n      <td>NaN</td>\n      <td>NaN</td>\n      <td>NaN</td>\n      <td>NaN</td>\n      <td>NaN</td>\n      <td>NaN</td>\n      <td>NaN</td>\n      <td>NaN</td>\n      <td>NaN</td>\n      <td>NaN</td>\n      <td>NaN</td>\n      <td>NaN</td>\n      <td>NaN</td>\n      <td>NaN</td>\n      <td>NaN</td>\n      <td>NaN</td>\n    </tr>\n    <tr>\n      <th>4</th>\n      <td>8158893.0</td>\n      <td>1</td>\n      <td>2020-06-29 16:00:00</td>\n      <td>2020-08-06 21:00:00</td>\n      <td>1</td>\n      <td>1</td>\n      <td>2020-06-30 03:00:11</td>\n      <td>2020-08-06 18:00:17</td>\n      <td>ICU4F</td>\n      <td>ZP0EBDC520062900DSE</td>\n      <td>2020-07-12 20:00:15</td>\n      <td>1</td>\n      <td>2020-07-12 19:00:02</td>\n      <td>ZP0EBDC520062900DSE</td>\n      <td>ZP0EBDC520062900DSE_315</td>\n      <td>ZP0EBDC520062900DSE_315</td>\n      <td>1.0</td>\n      <td>NaN</td>\n      <td>NaN</td>\n      <td>NaN</td>\n      <td>NaN</td>\n      <td>NaN</td>\n      <td>1.0</td>\n      <td>497058464.0</td>\n      <td>F0-FE-6B-5D-FC-15&amp;F0-FE-6B-5D-FC-15</td>\n      <td>PB840</td>\n      <td>IV</td>\n      <td>AC/PC</td>\n      <td>18.0</td>\n      <td>0.0</td>\n      <td>...</td>\n      <td>NaN</td>\n      <td>NaN</td>\n      <td>NaN</td>\n      <td>NaN</td>\n      <td>NaN</td>\n      <td>NaN</td>\n      <td>NaN</td>\n      <td>NaN</td>\n      <td>NaN</td>\n      <td>NaN</td>\n      <td>NaN</td>\n      <td>NaN</td>\n      <td>NaN</td>\n      <td>NaN</td>\n      <td>NaN</td>\n      <td>NaN</td>\n      <td>NaN</td>\n      <td>NaN</td>\n      <td>NaN</td>\n      <td>NaN</td>\n      <td>NaN</td>\n      <td>NaN</td>\n      <td>NaN</td>\n      <td>NaN</td>\n      <td>NaN</td>\n      <td>NaN</td>\n      <td>NaN</td>\n      <td>NaN</td>\n      <td>NaN</td>\n      <td>NaN</td>\n    </tr>\n  </tbody>\n</table>\n<p>5 rows × 190 columns</p>\n</div>"
     },
     "metadata": {},
     "execution_count": 6
    }
   ],
   "source": [
    "df_concat.head()"
   ]
  },
  {
   "cell_type": "code",
   "execution_count": 8,
   "metadata": {},
   "outputs": [],
   "source": [
    "# for i in df_baguan.index:\n",
    "#     for j in df_concat.index:\n",
    "#         if df_concat.loc[j, 'patient_id'] == df_baguan.loc[i, 'patient_id']:\n",
    "#             filt \n",
    "df_concat_gp = df_concat.groupby('patient_id')"
   ]
  },
  {
   "cell_type": "code",
   "execution_count": null,
   "metadata": {},
   "outputs": [],
   "source": []
  }
 ]
}