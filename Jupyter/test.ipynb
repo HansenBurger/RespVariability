{
 "metadata": {
  "language_info": {
   "codemirror_mode": {
    "name": "ipython",
    "version": 3
   },
   "file_extension": ".py",
   "mimetype": "text/x-python",
   "name": "python",
   "nbconvert_exporter": "python",
   "pygments_lexer": "ipython3",
   "version": "3.8.8"
  },
  "orig_nbformat": 4,
  "kernelspec": {
   "name": "python3",
   "display_name": "Python 3.8.8 64-bit ('DF_process': conda)"
  },
  "interpreter": {
   "hash": "fc883ce4be776a00668950b7133d030a15826a94400e8f6b01ca8fd8f53ab3b3"
  }
 },
 "nbformat": 4,
 "nbformat_minor": 2,
 "cells": [
  {
   "cell_type": "code",
   "execution_count": 1,
   "metadata": {},
   "outputs": [],
   "source": [
    "import pandas as pd\n",
    "from datetime import datetime,timedelta\n",
    "\n",
    "format_concat_loc = r\"..\\Data\\Format\\DATA.csv\"\n",
    "format_baguan_loc = r\"..\\Data\\Format\\vent_baguan.csv\""
   ]
  },
  {
   "cell_type": "code",
   "execution_count": 2,
   "metadata": {},
   "outputs": [],
   "source": [
    "pd.set_option('display.max_columns', 60)\n",
    "pd.set_option('display.max_rows', 60)"
   ]
  },
  {
   "cell_type": "code",
   "execution_count": 3,
   "metadata": {},
   "outputs": [
    {
     "output_type": "stream",
     "name": "stderr",
     "text": [
      "C:\\Main\\Soft\\Conda\\envs\\DF_process\\lib\\site-packages\\IPython\\core\\interactiveshell.py:3357: DtypeWarning: Columns (12,13,14,15,17,18,19,20,165,166,167,168,171,172,173,174,175,176,177,178,179,180,181,183,185,186) have mixed types.Specify dtype option on import or set low_memory=False.\n  if (await self.run_code(code, result,  async_=asy)):\n"
     ]
    }
   ],
   "source": [
    "def FormatProcess(df_loc, sort_jud):\n",
    "    df_tmp = pd.read_csv(df_loc)\n",
    "    df_tmp = df_tmp.dropna(axis=0, how=\"any\", subset=[\"上机时间\"])\n",
    "    df_tmp = df_tmp.sort_values(by=sort_jud, ascending=False)\n",
    "    df_tmp = df_tmp.reset_index(drop=True)\n",
    "\n",
    "    df_tmp[sort_jud] = df_tmp[sort_jud].astype(\"uint32\")\n",
    "    df_tmp[\"Index\"] = df_tmp.index\n",
    "\n",
    "    return df_tmp\n",
    "\n",
    "df_concat = FormatProcess(format_concat_loc, \"patient_id\")\n",
    "df_baguan = FormatProcess(format_baguan_loc, \"patient_id\")"
   ]
  },
  {
   "cell_type": "code",
   "execution_count": 13,
   "metadata": {
    "tags": []
   },
   "outputs": [],
   "source": [
    "def TimeShift(df_name, dt_format, column_names):\n",
    "    for i in df_name.columns:\n",
    "        if i in column_names:\n",
    "            index_num = 0\n",
    "            while pd.isna(df_name.loc[index_num, i]):\n",
    "                index_num = index_num + 1\n",
    "            else:\n",
    "                if len(str(df_name.loc[index_num, i]).split(\"-\")) == 1:\n",
    "                    df_name[i] = pd.to_datetime(df_name[i], format=dt_format[0])\n",
    "                else:\n",
    "                    df_name[i] = pd.to_datetime(df_name[i], format=dt_format[1])\n",
    "\n",
    "timecol_names = [\n",
    "    \"入ICU时间\",\n",
    "    \"出ICU时间\",\n",
    "    \"上机时间\",\n",
    "    \"撤机\",\n",
    "    \"record_time\",\n",
    "    \"记录时间_1\",\n",
    "    \"插管时间\",\n",
    "    \"拔管时间\",\n",
    "    \"撤机时间\",\n",
    "    \"第一次SBT时间\",\n",
    "]\n",
    "\n",
    "datetime_format = [\"%Y/%m/%d %X\", \"%Y-%m-%d %X\"]\n",
    "\n",
    "TimeShift(df_concat, datetime_format, timecol_names)\n",
    "TimeShift(df_baguan, datetime_format, timecol_names)"
   ]
  },
  {
   "cell_type": "code",
   "execution_count": 14,
   "metadata": {},
   "outputs": [],
   "source": [
    "pid_miss_index = []\n",
    "time_miss_index = []\n",
    "rsbi_index_list = []\n",
    "gp_concat = df_concat.groupby(\"patient_id\")\n",
    "gp_baguan = df_baguan.groupby(\"patient_id\")"
   ]
  },
  {
   "cell_type": "code",
   "execution_count": 15,
   "metadata": {},
   "outputs": [
    {
     "output_type": "execute_result",
     "data": {
      "text/plain": [
       "   patient_id  icunum              入ICU时间              出ICU时间  气切  是否有创  \\\n",
       "0     8180893       1 2020-07-26 17:00:00 2020-08-04 10:00:00   0     1   \n",
       "1     8180893       1 2020-07-26 17:00:00 2020-08-04 10:00:00   0     1   \n",
       "2     8180893       1 2020-07-26 17:00:00 2020-08-04 10:00:00   0     1   \n",
       "3     8180893       1 2020-07-26 17:00:00 2020-08-04 10:00:00   0     1   \n",
       "4     8180893       1 2020-07-26 17:00:00 2020-08-04 10:00:00   0     1   \n",
       "5     8180893       1 2020-07-26 17:00:00 2020-08-04 10:00:00   0     1   \n",
       "6     8180893       1 2020-07-26 17:00:00 2020-08-04 10:00:00   0     1   \n",
       "\n",
       "                 上机时间                  撤机 icu_name            record_id  \\\n",
       "0 2020-07-26 17:15:18 2020-07-27 15:02:22     EICU  ZD8831A12007260169P   \n",
       "1 2020-07-26 17:15:18 2020-07-27 15:02:22     EICU  ZD8831A12007260169P   \n",
       "2 2020-07-26 17:15:18 2020-07-27 15:02:22     EICU  ZD8831A12007260169P   \n",
       "3 2020-07-26 17:15:18 2020-07-27 15:02:22     EICU  ZD8831A12007260169P   \n",
       "4 2020-07-26 17:15:18 2020-07-27 15:02:22     EICU  ZD8831A12007260169P   \n",
       "5 2020-07-26 17:15:18 2020-07-27 15:02:22     EICU  ZD8831A12007260169P   \n",
       "6 2020-07-26 17:15:18 2020-07-27 15:02:22     EICU  ZD8831A12007260169P   \n",
       "\n",
       "          record_time  ventnum 记录时间_1 RID_1 zdt_1 zpx_1  MODEL_1 记录时间_2 RID_2  \\\n",
       "0 2020-07-27 15:02:22        0    NaT   NaN   NaN   NaN      NaN    NaN   NaN   \n",
       "1 2020-07-27 14:34:52        0    NaT   NaN   NaN   NaN      NaN    NaN   NaN   \n",
       "2 2020-07-27 14:28:41        0    NaT   NaN   NaN   NaN      NaN    NaN   NaN   \n",
       "3 2020-07-26 20:00:17        0    NaT   NaN   NaN   NaN      NaN    NaN   NaN   \n",
       "4 2020-07-26 18:43:43        0    NaT   NaN   NaN   NaN      NaN    NaN   NaN   \n",
       "5 2020-07-26 18:00:18        0    NaT   NaN   NaN   NaN      NaN    NaN   NaN   \n",
       "6 2020-07-26 17:15:18        0    NaT   NaN   NaN   NaN      NaN    NaN   NaN   \n",
       "\n",
       "  zdt_2 zpx_2  MODEL_2  record_flag   data_index          device_ip  Device  \\\n",
       "0   NaN   NaN      NaN          3.0  498606656.0  98-D8-63-11-BA-A1  Evita4   \n",
       "1   NaN   NaN      NaN          3.0  421514816.0  98-D8-63-11-BA-A1  Evita4   \n",
       "2   NaN   NaN      NaN          7.0  421491552.0  98-D8-63-11-BA-A1  Evita4   \n",
       "3   NaN   NaN      NaN          1.0  404816768.0  98-D8-63-11-BA-A1  Evita4   \n",
       "4   NaN   NaN      NaN          3.0  169017728.0  98-D8-63-11-BA-A1  Evita4   \n",
       "5   NaN   NaN      NaN          1.0  168854544.0  98-D8-63-11-BA-A1  Evita4   \n",
       "6   NaN   NaN      NaN          1.0   77077664.0  98-D8-63-11-BA-A1  Evita4   \n",
       "\n",
       "  Type          Mode  Pinsp  Psupp  ...  前降钙素  Leak  PEF  VC  MIP   抬头   握力  \\\n",
       "0   IV  BIPAP_ASSIST   18.0    0.0  ...   NaN   NaN  NaN NaN  NaN  NaN  NaN   \n",
       "1   IV  BIPAP_ASSIST   25.0    0.0  ...   NaN   NaN  NaN NaN  NaN  NaN  NaN   \n",
       "2   IV  BIPAP_ASSIST   15.0    0.0  ...   NaN   NaN  NaN NaN  NaN  NaN  NaN   \n",
       "3   IV  BIPAP_ASSIST   17.0    0.0  ...   NaN   NaN  NaN NaN  NaN  NaN  NaN   \n",
       "4   IV  BIPAP_ASSIST   17.0    0.0  ...   NaN   NaN  NaN NaN  NaN  NaN  NaN   \n",
       "5   IV  BIPAP_ASSIST   18.0    0.0  ...   NaN   NaN  NaN NaN  NaN  NaN  NaN   \n",
       "6   IV  BIPAP_ASSIST   18.0    0.0  ...   NaN   NaN  NaN NaN  NaN  NaN  NaN   \n",
       "\n",
       "   Resp_MV  Resp_P01  Resp_PEEP  Resp_Ps  辅助呼吸肌评分  RSB  ABG_HCO3  ABG_BE  \\\n",
       "0      NaN       NaN        NaN      NaN      NaN  NaN       NaN     NaN   \n",
       "1      NaN       NaN        NaN      NaN      NaN  NaN       NaN     NaN   \n",
       "2      NaN       NaN        NaN      NaN      NaN  NaN       NaN     NaN   \n",
       "3      NaN       NaN        NaN      NaN      NaN  NaN       NaN     NaN   \n",
       "4      NaN       NaN        NaN      NaN      NaN  NaN       NaN     NaN   \n",
       "5      NaN       NaN        NaN      NaN      NaN  NaN       NaN     NaN   \n",
       "6      NaN       NaN        NaN      NaN      NaN  NaN       NaN     NaN   \n",
       "\n",
       "   ABG_PACO2  ABG_PAO2  ABG_PH  ABG_FIO2  Resp_VT  Resp_MV_1  Resp_PEEP_1  \\\n",
       "0        NaN       NaN     NaN       NaN      NaN        NaN          NaN   \n",
       "1        NaN       NaN     NaN       NaN      NaN        NaN          NaN   \n",
       "2        NaN       NaN     NaN       NaN      NaN        NaN          NaN   \n",
       "3        NaN       NaN     NaN       NaN      NaN        NaN          NaN   \n",
       "4        NaN       NaN     NaN       NaN      NaN        NaN          NaN   \n",
       "5        NaN       NaN     NaN       NaN      NaN        NaN          NaN   \n",
       "6        NaN       NaN     NaN       NaN      NaN        NaN          NaN   \n",
       "\n",
       "   Resp_Ps_1  Resp_Pi  Resp_Mode  Param_C  Param_R  Param_P01  Param_Ppl  \\\n",
       "0        NaN      NaN        NaN      NaN      NaN        NaN        NaN   \n",
       "1        NaN      NaN        NaN      NaN      NaN        NaN        NaN   \n",
       "2        NaN      NaN        NaN      NaN      NaN        NaN        NaN   \n",
       "3        NaN      NaN        NaN      NaN      NaN        NaN        NaN   \n",
       "4        NaN      NaN        NaN      NaN      NaN        NaN        NaN   \n",
       "5        NaN      NaN        NaN      NaN      NaN        NaN        NaN   \n",
       "6        NaN      NaN        NaN      NaN      NaN        NaN        NaN   \n",
       "\n",
       "   Index  \n",
       "0      0  \n",
       "1      1  \n",
       "2      2  \n",
       "3      3  \n",
       "4      4  \n",
       "5      5  \n",
       "6      6  \n",
       "\n",
       "[7 rows x 191 columns]"
      ],
      "text/html": "<div>\n<style scoped>\n    .dataframe tbody tr th:only-of-type {\n        vertical-align: middle;\n    }\n\n    .dataframe tbody tr th {\n        vertical-align: top;\n    }\n\n    .dataframe thead th {\n        text-align: right;\n    }\n</style>\n<table border=\"1\" class=\"dataframe\">\n  <thead>\n    <tr style=\"text-align: right;\">\n      <th></th>\n      <th>patient_id</th>\n      <th>icunum</th>\n      <th>入ICU时间</th>\n      <th>出ICU时间</th>\n      <th>气切</th>\n      <th>是否有创</th>\n      <th>上机时间</th>\n      <th>撤机</th>\n      <th>icu_name</th>\n      <th>record_id</th>\n      <th>record_time</th>\n      <th>ventnum</th>\n      <th>记录时间_1</th>\n      <th>RID_1</th>\n      <th>zdt_1</th>\n      <th>zpx_1</th>\n      <th>MODEL_1</th>\n      <th>记录时间_2</th>\n      <th>RID_2</th>\n      <th>zdt_2</th>\n      <th>zpx_2</th>\n      <th>MODEL_2</th>\n      <th>record_flag</th>\n      <th>data_index</th>\n      <th>device_ip</th>\n      <th>Device</th>\n      <th>Type</th>\n      <th>Mode</th>\n      <th>Pinsp</th>\n      <th>Psupp</th>\n      <th>...</th>\n      <th>前降钙素</th>\n      <th>Leak</th>\n      <th>PEF</th>\n      <th>VC</th>\n      <th>MIP</th>\n      <th>抬头</th>\n      <th>握力</th>\n      <th>Resp_MV</th>\n      <th>Resp_P01</th>\n      <th>Resp_PEEP</th>\n      <th>Resp_Ps</th>\n      <th>辅助呼吸肌评分</th>\n      <th>RSB</th>\n      <th>ABG_HCO3</th>\n      <th>ABG_BE</th>\n      <th>ABG_PACO2</th>\n      <th>ABG_PAO2</th>\n      <th>ABG_PH</th>\n      <th>ABG_FIO2</th>\n      <th>Resp_VT</th>\n      <th>Resp_MV_1</th>\n      <th>Resp_PEEP_1</th>\n      <th>Resp_Ps_1</th>\n      <th>Resp_Pi</th>\n      <th>Resp_Mode</th>\n      <th>Param_C</th>\n      <th>Param_R</th>\n      <th>Param_P01</th>\n      <th>Param_Ppl</th>\n      <th>Index</th>\n    </tr>\n  </thead>\n  <tbody>\n    <tr>\n      <th>0</th>\n      <td>8180893</td>\n      <td>1</td>\n      <td>2020-07-26 17:00:00</td>\n      <td>2020-08-04 10:00:00</td>\n      <td>0</td>\n      <td>1</td>\n      <td>2020-07-26 17:15:18</td>\n      <td>2020-07-27 15:02:22</td>\n      <td>EICU</td>\n      <td>ZD8831A12007260169P</td>\n      <td>2020-07-27 15:02:22</td>\n      <td>0</td>\n      <td>NaT</td>\n      <td>NaN</td>\n      <td>NaN</td>\n      <td>NaN</td>\n      <td>NaN</td>\n      <td>NaN</td>\n      <td>NaN</td>\n      <td>NaN</td>\n      <td>NaN</td>\n      <td>NaN</td>\n      <td>3.0</td>\n      <td>498606656.0</td>\n      <td>98-D8-63-11-BA-A1</td>\n      <td>Evita4</td>\n      <td>IV</td>\n      <td>BIPAP_ASSIST</td>\n      <td>18.0</td>\n      <td>0.0</td>\n      <td>...</td>\n      <td>NaN</td>\n      <td>NaN</td>\n      <td>NaN</td>\n      <td>NaN</td>\n      <td>NaN</td>\n      <td>NaN</td>\n      <td>NaN</td>\n      <td>NaN</td>\n      <td>NaN</td>\n      <td>NaN</td>\n      <td>NaN</td>\n      <td>NaN</td>\n      <td>NaN</td>\n      <td>NaN</td>\n      <td>NaN</td>\n      <td>NaN</td>\n      <td>NaN</td>\n      <td>NaN</td>\n      <td>NaN</td>\n      <td>NaN</td>\n      <td>NaN</td>\n      <td>NaN</td>\n      <td>NaN</td>\n      <td>NaN</td>\n      <td>NaN</td>\n      <td>NaN</td>\n      <td>NaN</td>\n      <td>NaN</td>\n      <td>NaN</td>\n      <td>0</td>\n    </tr>\n    <tr>\n      <th>1</th>\n      <td>8180893</td>\n      <td>1</td>\n      <td>2020-07-26 17:00:00</td>\n      <td>2020-08-04 10:00:00</td>\n      <td>0</td>\n      <td>1</td>\n      <td>2020-07-26 17:15:18</td>\n      <td>2020-07-27 15:02:22</td>\n      <td>EICU</td>\n      <td>ZD8831A12007260169P</td>\n      <td>2020-07-27 14:34:52</td>\n      <td>0</td>\n      <td>NaT</td>\n      <td>NaN</td>\n      <td>NaN</td>\n      <td>NaN</td>\n      <td>NaN</td>\n      <td>NaN</td>\n      <td>NaN</td>\n      <td>NaN</td>\n      <td>NaN</td>\n      <td>NaN</td>\n      <td>3.0</td>\n      <td>421514816.0</td>\n      <td>98-D8-63-11-BA-A1</td>\n      <td>Evita4</td>\n      <td>IV</td>\n      <td>BIPAP_ASSIST</td>\n      <td>25.0</td>\n      <td>0.0</td>\n      <td>...</td>\n      <td>NaN</td>\n      <td>NaN</td>\n      <td>NaN</td>\n      <td>NaN</td>\n      <td>NaN</td>\n      <td>NaN</td>\n      <td>NaN</td>\n      <td>NaN</td>\n      <td>NaN</td>\n      <td>NaN</td>\n      <td>NaN</td>\n      <td>NaN</td>\n      <td>NaN</td>\n      <td>NaN</td>\n      <td>NaN</td>\n      <td>NaN</td>\n      <td>NaN</td>\n      <td>NaN</td>\n      <td>NaN</td>\n      <td>NaN</td>\n      <td>NaN</td>\n      <td>NaN</td>\n      <td>NaN</td>\n      <td>NaN</td>\n      <td>NaN</td>\n      <td>NaN</td>\n      <td>NaN</td>\n      <td>NaN</td>\n      <td>NaN</td>\n      <td>1</td>\n    </tr>\n    <tr>\n      <th>2</th>\n      <td>8180893</td>\n      <td>1</td>\n      <td>2020-07-26 17:00:00</td>\n      <td>2020-08-04 10:00:00</td>\n      <td>0</td>\n      <td>1</td>\n      <td>2020-07-26 17:15:18</td>\n      <td>2020-07-27 15:02:22</td>\n      <td>EICU</td>\n      <td>ZD8831A12007260169P</td>\n      <td>2020-07-27 14:28:41</td>\n      <td>0</td>\n      <td>NaT</td>\n      <td>NaN</td>\n      <td>NaN</td>\n      <td>NaN</td>\n      <td>NaN</td>\n      <td>NaN</td>\n      <td>NaN</td>\n      <td>NaN</td>\n      <td>NaN</td>\n      <td>NaN</td>\n      <td>7.0</td>\n      <td>421491552.0</td>\n      <td>98-D8-63-11-BA-A1</td>\n      <td>Evita4</td>\n      <td>IV</td>\n      <td>BIPAP_ASSIST</td>\n      <td>15.0</td>\n      <td>0.0</td>\n      <td>...</td>\n      <td>NaN</td>\n      <td>NaN</td>\n      <td>NaN</td>\n      <td>NaN</td>\n      <td>NaN</td>\n      <td>NaN</td>\n      <td>NaN</td>\n      <td>NaN</td>\n      <td>NaN</td>\n      <td>NaN</td>\n      <td>NaN</td>\n      <td>NaN</td>\n      <td>NaN</td>\n      <td>NaN</td>\n      <td>NaN</td>\n      <td>NaN</td>\n      <td>NaN</td>\n      <td>NaN</td>\n      <td>NaN</td>\n      <td>NaN</td>\n      <td>NaN</td>\n      <td>NaN</td>\n      <td>NaN</td>\n      <td>NaN</td>\n      <td>NaN</td>\n      <td>NaN</td>\n      <td>NaN</td>\n      <td>NaN</td>\n      <td>NaN</td>\n      <td>2</td>\n    </tr>\n    <tr>\n      <th>3</th>\n      <td>8180893</td>\n      <td>1</td>\n      <td>2020-07-26 17:00:00</td>\n      <td>2020-08-04 10:00:00</td>\n      <td>0</td>\n      <td>1</td>\n      <td>2020-07-26 17:15:18</td>\n      <td>2020-07-27 15:02:22</td>\n      <td>EICU</td>\n      <td>ZD8831A12007260169P</td>\n      <td>2020-07-26 20:00:17</td>\n      <td>0</td>\n      <td>NaT</td>\n      <td>NaN</td>\n      <td>NaN</td>\n      <td>NaN</td>\n      <td>NaN</td>\n      <td>NaN</td>\n      <td>NaN</td>\n      <td>NaN</td>\n      <td>NaN</td>\n      <td>NaN</td>\n      <td>1.0</td>\n      <td>404816768.0</td>\n      <td>98-D8-63-11-BA-A1</td>\n      <td>Evita4</td>\n      <td>IV</td>\n      <td>BIPAP_ASSIST</td>\n      <td>17.0</td>\n      <td>0.0</td>\n      <td>...</td>\n      <td>NaN</td>\n      <td>NaN</td>\n      <td>NaN</td>\n      <td>NaN</td>\n      <td>NaN</td>\n      <td>NaN</td>\n      <td>NaN</td>\n      <td>NaN</td>\n      <td>NaN</td>\n      <td>NaN</td>\n      <td>NaN</td>\n      <td>NaN</td>\n      <td>NaN</td>\n      <td>NaN</td>\n      <td>NaN</td>\n      <td>NaN</td>\n      <td>NaN</td>\n      <td>NaN</td>\n      <td>NaN</td>\n      <td>NaN</td>\n      <td>NaN</td>\n      <td>NaN</td>\n      <td>NaN</td>\n      <td>NaN</td>\n      <td>NaN</td>\n      <td>NaN</td>\n      <td>NaN</td>\n      <td>NaN</td>\n      <td>NaN</td>\n      <td>3</td>\n    </tr>\n    <tr>\n      <th>4</th>\n      <td>8180893</td>\n      <td>1</td>\n      <td>2020-07-26 17:00:00</td>\n      <td>2020-08-04 10:00:00</td>\n      <td>0</td>\n      <td>1</td>\n      <td>2020-07-26 17:15:18</td>\n      <td>2020-07-27 15:02:22</td>\n      <td>EICU</td>\n      <td>ZD8831A12007260169P</td>\n      <td>2020-07-26 18:43:43</td>\n      <td>0</td>\n      <td>NaT</td>\n      <td>NaN</td>\n      <td>NaN</td>\n      <td>NaN</td>\n      <td>NaN</td>\n      <td>NaN</td>\n      <td>NaN</td>\n      <td>NaN</td>\n      <td>NaN</td>\n      <td>NaN</td>\n      <td>3.0</td>\n      <td>169017728.0</td>\n      <td>98-D8-63-11-BA-A1</td>\n      <td>Evita4</td>\n      <td>IV</td>\n      <td>BIPAP_ASSIST</td>\n      <td>17.0</td>\n      <td>0.0</td>\n      <td>...</td>\n      <td>NaN</td>\n      <td>NaN</td>\n      <td>NaN</td>\n      <td>NaN</td>\n      <td>NaN</td>\n      <td>NaN</td>\n      <td>NaN</td>\n      <td>NaN</td>\n      <td>NaN</td>\n      <td>NaN</td>\n      <td>NaN</td>\n      <td>NaN</td>\n      <td>NaN</td>\n      <td>NaN</td>\n      <td>NaN</td>\n      <td>NaN</td>\n      <td>NaN</td>\n      <td>NaN</td>\n      <td>NaN</td>\n      <td>NaN</td>\n      <td>NaN</td>\n      <td>NaN</td>\n      <td>NaN</td>\n      <td>NaN</td>\n      <td>NaN</td>\n      <td>NaN</td>\n      <td>NaN</td>\n      <td>NaN</td>\n      <td>NaN</td>\n      <td>4</td>\n    </tr>\n    <tr>\n      <th>5</th>\n      <td>8180893</td>\n      <td>1</td>\n      <td>2020-07-26 17:00:00</td>\n      <td>2020-08-04 10:00:00</td>\n      <td>0</td>\n      <td>1</td>\n      <td>2020-07-26 17:15:18</td>\n      <td>2020-07-27 15:02:22</td>\n      <td>EICU</td>\n      <td>ZD8831A12007260169P</td>\n      <td>2020-07-26 18:00:18</td>\n      <td>0</td>\n      <td>NaT</td>\n      <td>NaN</td>\n      <td>NaN</td>\n      <td>NaN</td>\n      <td>NaN</td>\n      <td>NaN</td>\n      <td>NaN</td>\n      <td>NaN</td>\n      <td>NaN</td>\n      <td>NaN</td>\n      <td>1.0</td>\n      <td>168854544.0</td>\n      <td>98-D8-63-11-BA-A1</td>\n      <td>Evita4</td>\n      <td>IV</td>\n      <td>BIPAP_ASSIST</td>\n      <td>18.0</td>\n      <td>0.0</td>\n      <td>...</td>\n      <td>NaN</td>\n      <td>NaN</td>\n      <td>NaN</td>\n      <td>NaN</td>\n      <td>NaN</td>\n      <td>NaN</td>\n      <td>NaN</td>\n      <td>NaN</td>\n      <td>NaN</td>\n      <td>NaN</td>\n      <td>NaN</td>\n      <td>NaN</td>\n      <td>NaN</td>\n      <td>NaN</td>\n      <td>NaN</td>\n      <td>NaN</td>\n      <td>NaN</td>\n      <td>NaN</td>\n      <td>NaN</td>\n      <td>NaN</td>\n      <td>NaN</td>\n      <td>NaN</td>\n      <td>NaN</td>\n      <td>NaN</td>\n      <td>NaN</td>\n      <td>NaN</td>\n      <td>NaN</td>\n      <td>NaN</td>\n      <td>NaN</td>\n      <td>5</td>\n    </tr>\n    <tr>\n      <th>6</th>\n      <td>8180893</td>\n      <td>1</td>\n      <td>2020-07-26 17:00:00</td>\n      <td>2020-08-04 10:00:00</td>\n      <td>0</td>\n      <td>1</td>\n      <td>2020-07-26 17:15:18</td>\n      <td>2020-07-27 15:02:22</td>\n      <td>EICU</td>\n      <td>ZD8831A12007260169P</td>\n      <td>2020-07-26 17:15:18</td>\n      <td>0</td>\n      <td>NaT</td>\n      <td>NaN</td>\n      <td>NaN</td>\n      <td>NaN</td>\n      <td>NaN</td>\n      <td>NaN</td>\n      <td>NaN</td>\n      <td>NaN</td>\n      <td>NaN</td>\n      <td>NaN</td>\n      <td>1.0</td>\n      <td>77077664.0</td>\n      <td>98-D8-63-11-BA-A1</td>\n      <td>Evita4</td>\n      <td>IV</td>\n      <td>BIPAP_ASSIST</td>\n      <td>18.0</td>\n      <td>0.0</td>\n      <td>...</td>\n      <td>NaN</td>\n      <td>NaN</td>\n      <td>NaN</td>\n      <td>NaN</td>\n      <td>NaN</td>\n      <td>NaN</td>\n      <td>NaN</td>\n      <td>NaN</td>\n      <td>NaN</td>\n      <td>NaN</td>\n      <td>NaN</td>\n      <td>NaN</td>\n      <td>NaN</td>\n      <td>NaN</td>\n      <td>NaN</td>\n      <td>NaN</td>\n      <td>NaN</td>\n      <td>NaN</td>\n      <td>NaN</td>\n      <td>NaN</td>\n      <td>NaN</td>\n      <td>NaN</td>\n      <td>NaN</td>\n      <td>NaN</td>\n      <td>NaN</td>\n      <td>NaN</td>\n      <td>NaN</td>\n      <td>NaN</td>\n      <td>NaN</td>\n      <td>6</td>\n    </tr>\n  </tbody>\n</table>\n<p>7 rows × 191 columns</p>\n</div>"
     },
     "metadata": {},
     "execution_count": 15
    }
   ],
   "source": [
    "gp_concat.get_group(8180893)"
   ]
  },
  {
   "cell_type": "code",
   "execution_count": 10,
   "metadata": {},
   "outputs": [
    {
     "output_type": "stream",
     "name": "stdout",
     "text": [
      "0 0 0\n"
     ]
    }
   ],
   "source": [
    "for pid in df_baguan[\"patient_id\"].unique():\n",
    "\n",
    "    try:\n",
    "        df_tmp_concat = gp_concat.get_group(pid)\n",
    "        df_tmp_baguan = gp_baguan.get_group(pid)\n",
    "    except:\n",
    "        pid_miss_index.append(pid)\n",
    "        print(pid)\n",
    "        continue\n",
    "\n",
    "    # for i in df_tmp_baguan.index:\n",
    "\n",
    "    #     time_post = df_tmp_baguan.loc[i, \"拔管时间\"]\n",
    "    #     time_forward = time_post - timedelta(hours=2)\n",
    "    #     index_tmp_list = []\n",
    "\n",
    "    #     for j in df_tmp_concat.index:\n",
    "    #         time_ = df_tmp_concat.loc[j, \"record_time\"]\n",
    "    #         if time_ <= time_post and time_ > time_forward:\n",
    "    #             index_tmp_list.append(df_tmp_concat.loc[j, \"Index\"])\n",
    "    #         elif time_ > time_post:\n",
    "    #             break\n",
    "\n",
    "    #     if not index_tmp_list:\n",
    "    #         time_miss_index.append(df_tmp_baguan.loc[i, \"Index\"])\n",
    "    #     else:\n",
    "    #         rsbi_index_list.extend(index_tmp_list)\n",
    "\n",
    "print(len(pid_miss_index), len(time_miss_index), len(rsbi_index_list))"
   ]
  },
  {
   "cell_type": "code",
   "execution_count": 21,
   "metadata": {},
   "outputs": [
    {
     "output_type": "execute_result",
     "data": {
      "text/plain": [
       "   patient_id  icunum              入ICU时间              出ICU时间  气切  是否有创  \\\n",
       "1     8180893       1 2020-07-26 17:00:00 2020-08-04 10:00:00   0     1   \n",
       "2     8180893       1 2020-07-26 17:00:00 2020-08-04 10:00:00   0     1   \n",
       "3     8180893       1 2020-07-26 17:00:00 2020-08-04 10:00:00   0     1   \n",
       "\n",
       "                 上机时间                  撤机 icu_name            record_id  \\\n",
       "1 2020-07-26 17:15:18 2020-07-27 15:02:22     EICU  ZD8831A12007260169P   \n",
       "2 2020-07-26 17:15:18 2020-07-27 15:02:22     EICU  ZD8831A12007260169P   \n",
       "3 2020-07-26 17:15:18 2020-07-27 15:02:22     EICU  ZD8831A12007260169P   \n",
       "\n",
       "          record_time  ventnum 记录时间_1 RID_1 zdt_1 zpx_1  MODEL_1 记录时间_2 RID_2  \\\n",
       "1 2020-07-27 14:34:52        0    NaT   NaN   NaN   NaN      NaN    NaN   NaN   \n",
       "2 2020-07-27 14:28:41        0    NaT   NaN   NaN   NaN      NaN    NaN   NaN   \n",
       "3 2020-07-26 20:00:17        0    NaT   NaN   NaN   NaN      NaN    NaN   NaN   \n",
       "\n",
       "  zdt_2 zpx_2  MODEL_2  record_flag   data_index          device_ip  Device  \\\n",
       "1   NaN   NaN      NaN          3.0  421514816.0  98-D8-63-11-BA-A1  Evita4   \n",
       "2   NaN   NaN      NaN          7.0  421491552.0  98-D8-63-11-BA-A1  Evita4   \n",
       "3   NaN   NaN      NaN          1.0  404816768.0  98-D8-63-11-BA-A1  Evita4   \n",
       "\n",
       "  Type          Mode  Pinsp  Psupp  ...  前降钙素  Leak  PEF  VC  MIP   抬头   握力  \\\n",
       "1   IV  BIPAP_ASSIST   25.0    0.0  ...   NaN   NaN  NaN NaN  NaN  NaN  NaN   \n",
       "2   IV  BIPAP_ASSIST   15.0    0.0  ...   NaN   NaN  NaN NaN  NaN  NaN  NaN   \n",
       "3   IV  BIPAP_ASSIST   17.0    0.0  ...   NaN   NaN  NaN NaN  NaN  NaN  NaN   \n",
       "\n",
       "   Resp_MV  Resp_P01  Resp_PEEP  Resp_Ps  辅助呼吸肌评分  RSB  ABG_HCO3  ABG_BE  \\\n",
       "1      NaN       NaN        NaN      NaN      NaN  NaN       NaN     NaN   \n",
       "2      NaN       NaN        NaN      NaN      NaN  NaN       NaN     NaN   \n",
       "3      NaN       NaN        NaN      NaN      NaN  NaN       NaN     NaN   \n",
       "\n",
       "   ABG_PACO2  ABG_PAO2  ABG_PH  ABG_FIO2  Resp_VT  Resp_MV_1  Resp_PEEP_1  \\\n",
       "1        NaN       NaN     NaN       NaN      NaN        NaN          NaN   \n",
       "2        NaN       NaN     NaN       NaN      NaN        NaN          NaN   \n",
       "3        NaN       NaN     NaN       NaN      NaN        NaN          NaN   \n",
       "\n",
       "   Resp_Ps_1  Resp_Pi  Resp_Mode  Param_C  Param_R  Param_P01  Param_Ppl  \\\n",
       "1        NaN      NaN        NaN      NaN      NaN        NaN        NaN   \n",
       "2        NaN      NaN        NaN      NaN      NaN        NaN        NaN   \n",
       "3        NaN      NaN        NaN      NaN      NaN        NaN        NaN   \n",
       "\n",
       "   Index  \n",
       "1      1  \n",
       "2      2  \n",
       "3      3  \n",
       "\n",
       "[3 rows x 191 columns]"
      ],
      "text/html": "<div>\n<style scoped>\n    .dataframe tbody tr th:only-of-type {\n        vertical-align: middle;\n    }\n\n    .dataframe tbody tr th {\n        vertical-align: top;\n    }\n\n    .dataframe thead th {\n        text-align: right;\n    }\n</style>\n<table border=\"1\" class=\"dataframe\">\n  <thead>\n    <tr style=\"text-align: right;\">\n      <th></th>\n      <th>patient_id</th>\n      <th>icunum</th>\n      <th>入ICU时间</th>\n      <th>出ICU时间</th>\n      <th>气切</th>\n      <th>是否有创</th>\n      <th>上机时间</th>\n      <th>撤机</th>\n      <th>icu_name</th>\n      <th>record_id</th>\n      <th>record_time</th>\n      <th>ventnum</th>\n      <th>记录时间_1</th>\n      <th>RID_1</th>\n      <th>zdt_1</th>\n      <th>zpx_1</th>\n      <th>MODEL_1</th>\n      <th>记录时间_2</th>\n      <th>RID_2</th>\n      <th>zdt_2</th>\n      <th>zpx_2</th>\n      <th>MODEL_2</th>\n      <th>record_flag</th>\n      <th>data_index</th>\n      <th>device_ip</th>\n      <th>Device</th>\n      <th>Type</th>\n      <th>Mode</th>\n      <th>Pinsp</th>\n      <th>Psupp</th>\n      <th>...</th>\n      <th>前降钙素</th>\n      <th>Leak</th>\n      <th>PEF</th>\n      <th>VC</th>\n      <th>MIP</th>\n      <th>抬头</th>\n      <th>握力</th>\n      <th>Resp_MV</th>\n      <th>Resp_P01</th>\n      <th>Resp_PEEP</th>\n      <th>Resp_Ps</th>\n      <th>辅助呼吸肌评分</th>\n      <th>RSB</th>\n      <th>ABG_HCO3</th>\n      <th>ABG_BE</th>\n      <th>ABG_PACO2</th>\n      <th>ABG_PAO2</th>\n      <th>ABG_PH</th>\n      <th>ABG_FIO2</th>\n      <th>Resp_VT</th>\n      <th>Resp_MV_1</th>\n      <th>Resp_PEEP_1</th>\n      <th>Resp_Ps_1</th>\n      <th>Resp_Pi</th>\n      <th>Resp_Mode</th>\n      <th>Param_C</th>\n      <th>Param_R</th>\n      <th>Param_P01</th>\n      <th>Param_Ppl</th>\n      <th>Index</th>\n    </tr>\n  </thead>\n  <tbody>\n    <tr>\n      <th>1</th>\n      <td>8180893</td>\n      <td>1</td>\n      <td>2020-07-26 17:00:00</td>\n      <td>2020-08-04 10:00:00</td>\n      <td>0</td>\n      <td>1</td>\n      <td>2020-07-26 17:15:18</td>\n      <td>2020-07-27 15:02:22</td>\n      <td>EICU</td>\n      <td>ZD8831A12007260169P</td>\n      <td>2020-07-27 14:34:52</td>\n      <td>0</td>\n      <td>NaT</td>\n      <td>NaN</td>\n      <td>NaN</td>\n      <td>NaN</td>\n      <td>NaN</td>\n      <td>NaN</td>\n      <td>NaN</td>\n      <td>NaN</td>\n      <td>NaN</td>\n      <td>NaN</td>\n      <td>3.0</td>\n      <td>421514816.0</td>\n      <td>98-D8-63-11-BA-A1</td>\n      <td>Evita4</td>\n      <td>IV</td>\n      <td>BIPAP_ASSIST</td>\n      <td>25.0</td>\n      <td>0.0</td>\n      <td>...</td>\n      <td>NaN</td>\n      <td>NaN</td>\n      <td>NaN</td>\n      <td>NaN</td>\n      <td>NaN</td>\n      <td>NaN</td>\n      <td>NaN</td>\n      <td>NaN</td>\n      <td>NaN</td>\n      <td>NaN</td>\n      <td>NaN</td>\n      <td>NaN</td>\n      <td>NaN</td>\n      <td>NaN</td>\n      <td>NaN</td>\n      <td>NaN</td>\n      <td>NaN</td>\n      <td>NaN</td>\n      <td>NaN</td>\n      <td>NaN</td>\n      <td>NaN</td>\n      <td>NaN</td>\n      <td>NaN</td>\n      <td>NaN</td>\n      <td>NaN</td>\n      <td>NaN</td>\n      <td>NaN</td>\n      <td>NaN</td>\n      <td>NaN</td>\n      <td>1</td>\n    </tr>\n    <tr>\n      <th>2</th>\n      <td>8180893</td>\n      <td>1</td>\n      <td>2020-07-26 17:00:00</td>\n      <td>2020-08-04 10:00:00</td>\n      <td>0</td>\n      <td>1</td>\n      <td>2020-07-26 17:15:18</td>\n      <td>2020-07-27 15:02:22</td>\n      <td>EICU</td>\n      <td>ZD8831A12007260169P</td>\n      <td>2020-07-27 14:28:41</td>\n      <td>0</td>\n      <td>NaT</td>\n      <td>NaN</td>\n      <td>NaN</td>\n      <td>NaN</td>\n      <td>NaN</td>\n      <td>NaN</td>\n      <td>NaN</td>\n      <td>NaN</td>\n      <td>NaN</td>\n      <td>NaN</td>\n      <td>7.0</td>\n      <td>421491552.0</td>\n      <td>98-D8-63-11-BA-A1</td>\n      <td>Evita4</td>\n      <td>IV</td>\n      <td>BIPAP_ASSIST</td>\n      <td>15.0</td>\n      <td>0.0</td>\n      <td>...</td>\n      <td>NaN</td>\n      <td>NaN</td>\n      <td>NaN</td>\n      <td>NaN</td>\n      <td>NaN</td>\n      <td>NaN</td>\n      <td>NaN</td>\n      <td>NaN</td>\n      <td>NaN</td>\n      <td>NaN</td>\n      <td>NaN</td>\n      <td>NaN</td>\n      <td>NaN</td>\n      <td>NaN</td>\n      <td>NaN</td>\n      <td>NaN</td>\n      <td>NaN</td>\n      <td>NaN</td>\n      <td>NaN</td>\n      <td>NaN</td>\n      <td>NaN</td>\n      <td>NaN</td>\n      <td>NaN</td>\n      <td>NaN</td>\n      <td>NaN</td>\n      <td>NaN</td>\n      <td>NaN</td>\n      <td>NaN</td>\n      <td>NaN</td>\n      <td>2</td>\n    </tr>\n    <tr>\n      <th>3</th>\n      <td>8180893</td>\n      <td>1</td>\n      <td>2020-07-26 17:00:00</td>\n      <td>2020-08-04 10:00:00</td>\n      <td>0</td>\n      <td>1</td>\n      <td>2020-07-26 17:15:18</td>\n      <td>2020-07-27 15:02:22</td>\n      <td>EICU</td>\n      <td>ZD8831A12007260169P</td>\n      <td>2020-07-26 20:00:17</td>\n      <td>0</td>\n      <td>NaT</td>\n      <td>NaN</td>\n      <td>NaN</td>\n      <td>NaN</td>\n      <td>NaN</td>\n      <td>NaN</td>\n      <td>NaN</td>\n      <td>NaN</td>\n      <td>NaN</td>\n      <td>NaN</td>\n      <td>1.0</td>\n      <td>404816768.0</td>\n      <td>98-D8-63-11-BA-A1</td>\n      <td>Evita4</td>\n      <td>IV</td>\n      <td>BIPAP_ASSIST</td>\n      <td>17.0</td>\n      <td>0.0</td>\n      <td>...</td>\n      <td>NaN</td>\n      <td>NaN</td>\n      <td>NaN</td>\n      <td>NaN</td>\n      <td>NaN</td>\n      <td>NaN</td>\n      <td>NaN</td>\n      <td>NaN</td>\n      <td>NaN</td>\n      <td>NaN</td>\n      <td>NaN</td>\n      <td>NaN</td>\n      <td>NaN</td>\n      <td>NaN</td>\n      <td>NaN</td>\n      <td>NaN</td>\n      <td>NaN</td>\n      <td>NaN</td>\n      <td>NaN</td>\n      <td>NaN</td>\n      <td>NaN</td>\n      <td>NaN</td>\n      <td>NaN</td>\n      <td>NaN</td>\n      <td>NaN</td>\n      <td>NaN</td>\n      <td>NaN</td>\n      <td>NaN</td>\n      <td>NaN</td>\n      <td>3</td>\n    </tr>\n  </tbody>\n</table>\n<p>3 rows × 191 columns</p>\n</div>"
     },
     "metadata": {},
     "execution_count": 21
    }
   ],
   "source": [
    "df_concat.loc[[1,2,3]]"
   ]
  },
  {
   "cell_type": "code",
   "execution_count": 16,
   "metadata": {},
   "outputs": [
    {
     "output_type": "execute_result",
     "data": {
      "text/plain": [
       "   patient_id  icunum              入ICU时间              出ICU时间  气切  是否有创  \\\n",
       "0     8180893       1 2020-07-26 17:00:00 2020-08-04 10:00:00   0     1   \n",
       "1     8180893       1 2020-07-26 17:00:00 2020-08-04 10:00:00   0     1   \n",
       "2     8180893       1 2020-07-26 17:00:00 2020-08-04 10:00:00   0     1   \n",
       "3     8180893       1 2020-07-26 17:00:00 2020-08-04 10:00:00   0     1   \n",
       "4     8180893       1 2020-07-26 17:00:00 2020-08-04 10:00:00   0     1   \n",
       "\n",
       "                 上机时间                  撤机 icu_name            record_id  \\\n",
       "0 2020-07-26 17:15:18 2020-07-27 15:02:22     EICU  ZD8831A12007260169P   \n",
       "1 2020-07-26 17:15:18 2020-07-27 15:02:22     EICU  ZD8831A12007260169P   \n",
       "2 2020-07-26 17:15:18 2020-07-27 15:02:22     EICU  ZD8831A12007260169P   \n",
       "3 2020-07-26 17:15:18 2020-07-27 15:02:22     EICU  ZD8831A12007260169P   \n",
       "4 2020-07-26 17:15:18 2020-07-27 15:02:22     EICU  ZD8831A12007260169P   \n",
       "\n",
       "          record_time  ventnum 记录时间_1 RID_1 zdt_1 zpx_1  MODEL_1 记录时间_2 RID_2  \\\n",
       "0 2020-07-27 15:02:22        0    NaT   NaN   NaN   NaN      NaN    NaN   NaN   \n",
       "1 2020-07-27 14:34:52        0    NaT   NaN   NaN   NaN      NaN    NaN   NaN   \n",
       "2 2020-07-27 14:28:41        0    NaT   NaN   NaN   NaN      NaN    NaN   NaN   \n",
       "3 2020-07-26 20:00:17        0    NaT   NaN   NaN   NaN      NaN    NaN   NaN   \n",
       "4 2020-07-26 18:43:43        0    NaT   NaN   NaN   NaN      NaN    NaN   NaN   \n",
       "\n",
       "  zdt_2 zpx_2  MODEL_2  record_flag   data_index          device_ip  Device  \\\n",
       "0   NaN   NaN      NaN          3.0  498606656.0  98-D8-63-11-BA-A1  Evita4   \n",
       "1   NaN   NaN      NaN          3.0  421514816.0  98-D8-63-11-BA-A1  Evita4   \n",
       "2   NaN   NaN      NaN          7.0  421491552.0  98-D8-63-11-BA-A1  Evita4   \n",
       "3   NaN   NaN      NaN          1.0  404816768.0  98-D8-63-11-BA-A1  Evita4   \n",
       "4   NaN   NaN      NaN          3.0  169017728.0  98-D8-63-11-BA-A1  Evita4   \n",
       "\n",
       "  Type          Mode  Pinsp  Psupp  ...  前降钙素  Leak  PEF  VC  MIP   抬头   握力  \\\n",
       "0   IV  BIPAP_ASSIST   18.0    0.0  ...   NaN   NaN  NaN NaN  NaN  NaN  NaN   \n",
       "1   IV  BIPAP_ASSIST   25.0    0.0  ...   NaN   NaN  NaN NaN  NaN  NaN  NaN   \n",
       "2   IV  BIPAP_ASSIST   15.0    0.0  ...   NaN   NaN  NaN NaN  NaN  NaN  NaN   \n",
       "3   IV  BIPAP_ASSIST   17.0    0.0  ...   NaN   NaN  NaN NaN  NaN  NaN  NaN   \n",
       "4   IV  BIPAP_ASSIST   17.0    0.0  ...   NaN   NaN  NaN NaN  NaN  NaN  NaN   \n",
       "\n",
       "   Resp_MV  Resp_P01  Resp_PEEP  Resp_Ps  辅助呼吸肌评分  RSB  ABG_HCO3  ABG_BE  \\\n",
       "0      NaN       NaN        NaN      NaN      NaN  NaN       NaN     NaN   \n",
       "1      NaN       NaN        NaN      NaN      NaN  NaN       NaN     NaN   \n",
       "2      NaN       NaN        NaN      NaN      NaN  NaN       NaN     NaN   \n",
       "3      NaN       NaN        NaN      NaN      NaN  NaN       NaN     NaN   \n",
       "4      NaN       NaN        NaN      NaN      NaN  NaN       NaN     NaN   \n",
       "\n",
       "   ABG_PACO2  ABG_PAO2  ABG_PH  ABG_FIO2  Resp_VT  Resp_MV_1  Resp_PEEP_1  \\\n",
       "0        NaN       NaN     NaN       NaN      NaN        NaN          NaN   \n",
       "1        NaN       NaN     NaN       NaN      NaN        NaN          NaN   \n",
       "2        NaN       NaN     NaN       NaN      NaN        NaN          NaN   \n",
       "3        NaN       NaN     NaN       NaN      NaN        NaN          NaN   \n",
       "4        NaN       NaN     NaN       NaN      NaN        NaN          NaN   \n",
       "\n",
       "   Resp_Ps_1  Resp_Pi  Resp_Mode  Param_C  Param_R  Param_P01  Param_Ppl  \\\n",
       "0        NaN      NaN        NaN      NaN      NaN        NaN        NaN   \n",
       "1        NaN      NaN        NaN      NaN      NaN        NaN        NaN   \n",
       "2        NaN      NaN        NaN      NaN      NaN        NaN        NaN   \n",
       "3        NaN      NaN        NaN      NaN      NaN        NaN        NaN   \n",
       "4        NaN      NaN        NaN      NaN      NaN        NaN        NaN   \n",
       "\n",
       "   Index  \n",
       "0      0  \n",
       "1      1  \n",
       "2      2  \n",
       "3      3  \n",
       "4      4  \n",
       "\n",
       "[5 rows x 191 columns]"
      ],
      "text/html": "<div>\n<style scoped>\n    .dataframe tbody tr th:only-of-type {\n        vertical-align: middle;\n    }\n\n    .dataframe tbody tr th {\n        vertical-align: top;\n    }\n\n    .dataframe thead th {\n        text-align: right;\n    }\n</style>\n<table border=\"1\" class=\"dataframe\">\n  <thead>\n    <tr style=\"text-align: right;\">\n      <th></th>\n      <th>patient_id</th>\n      <th>icunum</th>\n      <th>入ICU时间</th>\n      <th>出ICU时间</th>\n      <th>气切</th>\n      <th>是否有创</th>\n      <th>上机时间</th>\n      <th>撤机</th>\n      <th>icu_name</th>\n      <th>record_id</th>\n      <th>record_time</th>\n      <th>ventnum</th>\n      <th>记录时间_1</th>\n      <th>RID_1</th>\n      <th>zdt_1</th>\n      <th>zpx_1</th>\n      <th>MODEL_1</th>\n      <th>记录时间_2</th>\n      <th>RID_2</th>\n      <th>zdt_2</th>\n      <th>zpx_2</th>\n      <th>MODEL_2</th>\n      <th>record_flag</th>\n      <th>data_index</th>\n      <th>device_ip</th>\n      <th>Device</th>\n      <th>Type</th>\n      <th>Mode</th>\n      <th>Pinsp</th>\n      <th>Psupp</th>\n      <th>...</th>\n      <th>前降钙素</th>\n      <th>Leak</th>\n      <th>PEF</th>\n      <th>VC</th>\n      <th>MIP</th>\n      <th>抬头</th>\n      <th>握力</th>\n      <th>Resp_MV</th>\n      <th>Resp_P01</th>\n      <th>Resp_PEEP</th>\n      <th>Resp_Ps</th>\n      <th>辅助呼吸肌评分</th>\n      <th>RSB</th>\n      <th>ABG_HCO3</th>\n      <th>ABG_BE</th>\n      <th>ABG_PACO2</th>\n      <th>ABG_PAO2</th>\n      <th>ABG_PH</th>\n      <th>ABG_FIO2</th>\n      <th>Resp_VT</th>\n      <th>Resp_MV_1</th>\n      <th>Resp_PEEP_1</th>\n      <th>Resp_Ps_1</th>\n      <th>Resp_Pi</th>\n      <th>Resp_Mode</th>\n      <th>Param_C</th>\n      <th>Param_R</th>\n      <th>Param_P01</th>\n      <th>Param_Ppl</th>\n      <th>Index</th>\n    </tr>\n  </thead>\n  <tbody>\n    <tr>\n      <th>0</th>\n      <td>8180893</td>\n      <td>1</td>\n      <td>2020-07-26 17:00:00</td>\n      <td>2020-08-04 10:00:00</td>\n      <td>0</td>\n      <td>1</td>\n      <td>2020-07-26 17:15:18</td>\n      <td>2020-07-27 15:02:22</td>\n      <td>EICU</td>\n      <td>ZD8831A12007260169P</td>\n      <td>2020-07-27 15:02:22</td>\n      <td>0</td>\n      <td>NaT</td>\n      <td>NaN</td>\n      <td>NaN</td>\n      <td>NaN</td>\n      <td>NaN</td>\n      <td>NaN</td>\n      <td>NaN</td>\n      <td>NaN</td>\n      <td>NaN</td>\n      <td>NaN</td>\n      <td>3.0</td>\n      <td>498606656.0</td>\n      <td>98-D8-63-11-BA-A1</td>\n      <td>Evita4</td>\n      <td>IV</td>\n      <td>BIPAP_ASSIST</td>\n      <td>18.0</td>\n      <td>0.0</td>\n      <td>...</td>\n      <td>NaN</td>\n      <td>NaN</td>\n      <td>NaN</td>\n      <td>NaN</td>\n      <td>NaN</td>\n      <td>NaN</td>\n      <td>NaN</td>\n      <td>NaN</td>\n      <td>NaN</td>\n      <td>NaN</td>\n      <td>NaN</td>\n      <td>NaN</td>\n      <td>NaN</td>\n      <td>NaN</td>\n      <td>NaN</td>\n      <td>NaN</td>\n      <td>NaN</td>\n      <td>NaN</td>\n      <td>NaN</td>\n      <td>NaN</td>\n      <td>NaN</td>\n      <td>NaN</td>\n      <td>NaN</td>\n      <td>NaN</td>\n      <td>NaN</td>\n      <td>NaN</td>\n      <td>NaN</td>\n      <td>NaN</td>\n      <td>NaN</td>\n      <td>0</td>\n    </tr>\n    <tr>\n      <th>1</th>\n      <td>8180893</td>\n      <td>1</td>\n      <td>2020-07-26 17:00:00</td>\n      <td>2020-08-04 10:00:00</td>\n      <td>0</td>\n      <td>1</td>\n      <td>2020-07-26 17:15:18</td>\n      <td>2020-07-27 15:02:22</td>\n      <td>EICU</td>\n      <td>ZD8831A12007260169P</td>\n      <td>2020-07-27 14:34:52</td>\n      <td>0</td>\n      <td>NaT</td>\n      <td>NaN</td>\n      <td>NaN</td>\n      <td>NaN</td>\n      <td>NaN</td>\n      <td>NaN</td>\n      <td>NaN</td>\n      <td>NaN</td>\n      <td>NaN</td>\n      <td>NaN</td>\n      <td>3.0</td>\n      <td>421514816.0</td>\n      <td>98-D8-63-11-BA-A1</td>\n      <td>Evita4</td>\n      <td>IV</td>\n      <td>BIPAP_ASSIST</td>\n      <td>25.0</td>\n      <td>0.0</td>\n      <td>...</td>\n      <td>NaN</td>\n      <td>NaN</td>\n      <td>NaN</td>\n      <td>NaN</td>\n      <td>NaN</td>\n      <td>NaN</td>\n      <td>NaN</td>\n      <td>NaN</td>\n      <td>NaN</td>\n      <td>NaN</td>\n      <td>NaN</td>\n      <td>NaN</td>\n      <td>NaN</td>\n      <td>NaN</td>\n      <td>NaN</td>\n      <td>NaN</td>\n      <td>NaN</td>\n      <td>NaN</td>\n      <td>NaN</td>\n      <td>NaN</td>\n      <td>NaN</td>\n      <td>NaN</td>\n      <td>NaN</td>\n      <td>NaN</td>\n      <td>NaN</td>\n      <td>NaN</td>\n      <td>NaN</td>\n      <td>NaN</td>\n      <td>NaN</td>\n      <td>1</td>\n    </tr>\n    <tr>\n      <th>2</th>\n      <td>8180893</td>\n      <td>1</td>\n      <td>2020-07-26 17:00:00</td>\n      <td>2020-08-04 10:00:00</td>\n      <td>0</td>\n      <td>1</td>\n      <td>2020-07-26 17:15:18</td>\n      <td>2020-07-27 15:02:22</td>\n      <td>EICU</td>\n      <td>ZD8831A12007260169P</td>\n      <td>2020-07-27 14:28:41</td>\n      <td>0</td>\n      <td>NaT</td>\n      <td>NaN</td>\n      <td>NaN</td>\n      <td>NaN</td>\n      <td>NaN</td>\n      <td>NaN</td>\n      <td>NaN</td>\n      <td>NaN</td>\n      <td>NaN</td>\n      <td>NaN</td>\n      <td>7.0</td>\n      <td>421491552.0</td>\n      <td>98-D8-63-11-BA-A1</td>\n      <td>Evita4</td>\n      <td>IV</td>\n      <td>BIPAP_ASSIST</td>\n      <td>15.0</td>\n      <td>0.0</td>\n      <td>...</td>\n      <td>NaN</td>\n      <td>NaN</td>\n      <td>NaN</td>\n      <td>NaN</td>\n      <td>NaN</td>\n      <td>NaN</td>\n      <td>NaN</td>\n      <td>NaN</td>\n      <td>NaN</td>\n      <td>NaN</td>\n      <td>NaN</td>\n      <td>NaN</td>\n      <td>NaN</td>\n      <td>NaN</td>\n      <td>NaN</td>\n      <td>NaN</td>\n      <td>NaN</td>\n      <td>NaN</td>\n      <td>NaN</td>\n      <td>NaN</td>\n      <td>NaN</td>\n      <td>NaN</td>\n      <td>NaN</td>\n      <td>NaN</td>\n      <td>NaN</td>\n      <td>NaN</td>\n      <td>NaN</td>\n      <td>NaN</td>\n      <td>NaN</td>\n      <td>2</td>\n    </tr>\n    <tr>\n      <th>3</th>\n      <td>8180893</td>\n      <td>1</td>\n      <td>2020-07-26 17:00:00</td>\n      <td>2020-08-04 10:00:00</td>\n      <td>0</td>\n      <td>1</td>\n      <td>2020-07-26 17:15:18</td>\n      <td>2020-07-27 15:02:22</td>\n      <td>EICU</td>\n      <td>ZD8831A12007260169P</td>\n      <td>2020-07-26 20:00:17</td>\n      <td>0</td>\n      <td>NaT</td>\n      <td>NaN</td>\n      <td>NaN</td>\n      <td>NaN</td>\n      <td>NaN</td>\n      <td>NaN</td>\n      <td>NaN</td>\n      <td>NaN</td>\n      <td>NaN</td>\n      <td>NaN</td>\n      <td>1.0</td>\n      <td>404816768.0</td>\n      <td>98-D8-63-11-BA-A1</td>\n      <td>Evita4</td>\n      <td>IV</td>\n      <td>BIPAP_ASSIST</td>\n      <td>17.0</td>\n      <td>0.0</td>\n      <td>...</td>\n      <td>NaN</td>\n      <td>NaN</td>\n      <td>NaN</td>\n      <td>NaN</td>\n      <td>NaN</td>\n      <td>NaN</td>\n      <td>NaN</td>\n      <td>NaN</td>\n      <td>NaN</td>\n      <td>NaN</td>\n      <td>NaN</td>\n      <td>NaN</td>\n      <td>NaN</td>\n      <td>NaN</td>\n      <td>NaN</td>\n      <td>NaN</td>\n      <td>NaN</td>\n      <td>NaN</td>\n      <td>NaN</td>\n      <td>NaN</td>\n      <td>NaN</td>\n      <td>NaN</td>\n      <td>NaN</td>\n      <td>NaN</td>\n      <td>NaN</td>\n      <td>NaN</td>\n      <td>NaN</td>\n      <td>NaN</td>\n      <td>NaN</td>\n      <td>3</td>\n    </tr>\n    <tr>\n      <th>4</th>\n      <td>8180893</td>\n      <td>1</td>\n      <td>2020-07-26 17:00:00</td>\n      <td>2020-08-04 10:00:00</td>\n      <td>0</td>\n      <td>1</td>\n      <td>2020-07-26 17:15:18</td>\n      <td>2020-07-27 15:02:22</td>\n      <td>EICU</td>\n      <td>ZD8831A12007260169P</td>\n      <td>2020-07-26 18:43:43</td>\n      <td>0</td>\n      <td>NaT</td>\n      <td>NaN</td>\n      <td>NaN</td>\n      <td>NaN</td>\n      <td>NaN</td>\n      <td>NaN</td>\n      <td>NaN</td>\n      <td>NaN</td>\n      <td>NaN</td>\n      <td>NaN</td>\n      <td>3.0</td>\n      <td>169017728.0</td>\n      <td>98-D8-63-11-BA-A1</td>\n      <td>Evita4</td>\n      <td>IV</td>\n      <td>BIPAP_ASSIST</td>\n      <td>17.0</td>\n      <td>0.0</td>\n      <td>...</td>\n      <td>NaN</td>\n      <td>NaN</td>\n      <td>NaN</td>\n      <td>NaN</td>\n      <td>NaN</td>\n      <td>NaN</td>\n      <td>NaN</td>\n      <td>NaN</td>\n      <td>NaN</td>\n      <td>NaN</td>\n      <td>NaN</td>\n      <td>NaN</td>\n      <td>NaN</td>\n      <td>NaN</td>\n      <td>NaN</td>\n      <td>NaN</td>\n      <td>NaN</td>\n      <td>NaN</td>\n      <td>NaN</td>\n      <td>NaN</td>\n      <td>NaN</td>\n      <td>NaN</td>\n      <td>NaN</td>\n      <td>NaN</td>\n      <td>NaN</td>\n      <td>NaN</td>\n      <td>NaN</td>\n      <td>NaN</td>\n      <td>NaN</td>\n      <td>4</td>\n    </tr>\n  </tbody>\n</table>\n<p>5 rows × 191 columns</p>\n</div>"
     },
     "metadata": {},
     "execution_count": 16
    }
   ],
   "source": [
    "df_concat.head()"
   ]
  },
  {
   "cell_type": "code",
   "execution_count": 19,
   "metadata": {},
   "outputs": [
    {
     "output_type": "execute_result",
     "data": {
      "text/plain": [
       "   Unnamed: 0  patient_id              入ICU时间              出ICU时间  气切（气切=1）  \\\n",
       "0        3507     8180893 2020-07-26 17:00:00 2020-08-04 10:00:00         0   \n",
       "1        3506     8180893 2020-07-26 17:00:00 2020-08-04 10:00:00         0   \n",
       "2        3504     8158809 2020-06-28 19:00:00 2020-06-29 11:00:00         0   \n",
       "3        3503     8154615 2020-04-30 23:00:00 2020-05-01 07:00:00         0   \n",
       "4        3502     8152029 2020-02-15 14:00:00 2020-02-21 14:00:00         0   \n",
       "\n",
       "   有创（有创=1）                上机时间                插管时间                拔管时间  \\\n",
       "0         1 2020-07-26 17:15:18 2020-07-27 14:28:41 2020-07-27 15:02:22   \n",
       "1         1 2020-07-26 17:15:18 2020-07-26 17:15:18 2020-07-26 20:00:17   \n",
       "2         1 2020-06-28 21:10:25 2020-06-28 21:10:25 2020-06-29 08:34:48   \n",
       "3         1 2020-04-30 23:25:19 2020-04-30 23:25:19 2020-05-01 06:00:15   \n",
       "4         1 2020-02-15 14:53:19 2020-02-18 10:00:19 2020-02-18 14:00:15   \n",
       "\n",
       "   拔管结局（失败=1）                撤机时间 第一次SBT时间       28MVfreeday           MVtime  \\\n",
       "0         0.0 2020-07-27 15:02:22      NaT  27 days 02:12:56  0 days 21:47:04   \n",
       "1         1.0 2020-07-27 15:02:22      NaT  27 days 02:12:56  0 days 21:47:04   \n",
       "2         0.0 2020-06-29 08:34:48      NaT  27 days 12:35:37  0 days 11:24:23   \n",
       "3         0.0 2020-05-01 06:00:15      NaT  27 days 17:25:04  0 days 06:34:56   \n",
       "4         0.0 2020-02-18 14:00:15      NaT  25 days 00:53:04  2 days 23:06:56   \n",
       "\n",
       "  第一次SBT到撤机的时间（天）  Index  \n",
       "0             NaN      0  \n",
       "1             NaN      1  \n",
       "2             NaN      2  \n",
       "3             NaN      3  \n",
       "4             NaN      4  "
      ],
      "text/html": "<div>\n<style scoped>\n    .dataframe tbody tr th:only-of-type {\n        vertical-align: middle;\n    }\n\n    .dataframe tbody tr th {\n        vertical-align: top;\n    }\n\n    .dataframe thead th {\n        text-align: right;\n    }\n</style>\n<table border=\"1\" class=\"dataframe\">\n  <thead>\n    <tr style=\"text-align: right;\">\n      <th></th>\n      <th>Unnamed: 0</th>\n      <th>patient_id</th>\n      <th>入ICU时间</th>\n      <th>出ICU时间</th>\n      <th>气切（气切=1）</th>\n      <th>有创（有创=1）</th>\n      <th>上机时间</th>\n      <th>插管时间</th>\n      <th>拔管时间</th>\n      <th>拔管结局（失败=1）</th>\n      <th>撤机时间</th>\n      <th>第一次SBT时间</th>\n      <th>28MVfreeday</th>\n      <th>MVtime</th>\n      <th>第一次SBT到撤机的时间（天）</th>\n      <th>Index</th>\n    </tr>\n  </thead>\n  <tbody>\n    <tr>\n      <th>0</th>\n      <td>3507</td>\n      <td>8180893</td>\n      <td>2020-07-26 17:00:00</td>\n      <td>2020-08-04 10:00:00</td>\n      <td>0</td>\n      <td>1</td>\n      <td>2020-07-26 17:15:18</td>\n      <td>2020-07-27 14:28:41</td>\n      <td>2020-07-27 15:02:22</td>\n      <td>0.0</td>\n      <td>2020-07-27 15:02:22</td>\n      <td>NaT</td>\n      <td>27 days 02:12:56</td>\n      <td>0 days 21:47:04</td>\n      <td>NaN</td>\n      <td>0</td>\n    </tr>\n    <tr>\n      <th>1</th>\n      <td>3506</td>\n      <td>8180893</td>\n      <td>2020-07-26 17:00:00</td>\n      <td>2020-08-04 10:00:00</td>\n      <td>0</td>\n      <td>1</td>\n      <td>2020-07-26 17:15:18</td>\n      <td>2020-07-26 17:15:18</td>\n      <td>2020-07-26 20:00:17</td>\n      <td>1.0</td>\n      <td>2020-07-27 15:02:22</td>\n      <td>NaT</td>\n      <td>27 days 02:12:56</td>\n      <td>0 days 21:47:04</td>\n      <td>NaN</td>\n      <td>1</td>\n    </tr>\n    <tr>\n      <th>2</th>\n      <td>3504</td>\n      <td>8158809</td>\n      <td>2020-06-28 19:00:00</td>\n      <td>2020-06-29 11:00:00</td>\n      <td>0</td>\n      <td>1</td>\n      <td>2020-06-28 21:10:25</td>\n      <td>2020-06-28 21:10:25</td>\n      <td>2020-06-29 08:34:48</td>\n      <td>0.0</td>\n      <td>2020-06-29 08:34:48</td>\n      <td>NaT</td>\n      <td>27 days 12:35:37</td>\n      <td>0 days 11:24:23</td>\n      <td>NaN</td>\n      <td>2</td>\n    </tr>\n    <tr>\n      <th>3</th>\n      <td>3503</td>\n      <td>8154615</td>\n      <td>2020-04-30 23:00:00</td>\n      <td>2020-05-01 07:00:00</td>\n      <td>0</td>\n      <td>1</td>\n      <td>2020-04-30 23:25:19</td>\n      <td>2020-04-30 23:25:19</td>\n      <td>2020-05-01 06:00:15</td>\n      <td>0.0</td>\n      <td>2020-05-01 06:00:15</td>\n      <td>NaT</td>\n      <td>27 days 17:25:04</td>\n      <td>0 days 06:34:56</td>\n      <td>NaN</td>\n      <td>3</td>\n    </tr>\n    <tr>\n      <th>4</th>\n      <td>3502</td>\n      <td>8152029</td>\n      <td>2020-02-15 14:00:00</td>\n      <td>2020-02-21 14:00:00</td>\n      <td>0</td>\n      <td>1</td>\n      <td>2020-02-15 14:53:19</td>\n      <td>2020-02-18 10:00:19</td>\n      <td>2020-02-18 14:00:15</td>\n      <td>0.0</td>\n      <td>2020-02-18 14:00:15</td>\n      <td>NaT</td>\n      <td>25 days 00:53:04</td>\n      <td>2 days 23:06:56</td>\n      <td>NaN</td>\n      <td>4</td>\n    </tr>\n  </tbody>\n</table>\n</div>"
     },
     "metadata": {},
     "execution_count": 19
    }
   ],
   "source": [
    "df_baguan.head()"
   ]
  },
  {
   "cell_type": "code",
   "execution_count": 13,
   "metadata": {
    "tags": []
   },
   "outputs": [],
   "source": [
    "pid_miss_index = []\n",
    "time_miss_index = []\n",
    "rsbi_index = []\n",
    "\n",
    "gp_baguan = df_baguan.groupby('patient_id')\n",
    "\n",
    "for pid in df_baguan['patient_id'].unique():\n",
    "    try:\n",
    "        df_tmp_concat = df_concat_gp.get_group(pid)\n",
    "        df_tmp_baguan = gp_baguan.get_group(pid)\n",
    "    except:\n",
    "        pid_miss_index.append(pid)\n",
    "        continue\n",
    "    for timeline in df_tmp_baguan['拔管时间']:\n",
    "        start_time = timeline - timedelta(hours = 2)\n",
    "        end_time = timeline\n",
    "        filt = (df_tmp_concat['record_time'] <= end_time) & (df_tmp_concat['record_time'] > start_time)\n",
    "        if df_tmp_concat.loc[filt].empty:\n",
    "            time_miss_index.append([pid,timeline])\n",
    "        else:\n",
    "            rsbi_index.extend(df_tmp_concat.loc[filt].index)\n"
   ]
  },
  {
   "cell_type": "code",
   "execution_count": 14,
   "metadata": {},
   "outputs": [
    {
     "output_type": "stream",
     "name": "stdout",
     "text": [
      "390 621 3625\n"
     ]
    }
   ],
   "source": [
    "print(\n",
    "len(time_miss_index),\n",
    "len(pid_miss_index),\n",
    "len(rsbi_index)\n",
    ")"
   ]
  },
  {
   "cell_type": "code",
   "execution_count": 17,
   "metadata": {},
   "outputs": [
    {
     "output_type": "execute_result",
     "data": {
      "text/plain": [
       "[904, 905, 907, 908, 929, 932, 933, 943, 944, 925]"
      ]
     },
     "metadata": {},
     "execution_count": 17
    }
   ],
   "source": [
    "rsbi_index[0:10]"
   ]
  },
  {
   "cell_type": "code",
   "execution_count": 20,
   "metadata": {},
   "outputs": [
    {
     "output_type": "execute_result",
     "data": {
      "text/plain": [
       "pandas._libs.tslibs.timestamps.Timestamp"
      ]
     },
     "metadata": {},
     "execution_count": 20
    }
   ],
   "source": [
    "type(df_concat_gp.get_group(8158893).loc[0,\"record_time\"])"
   ]
  },
  {
   "cell_type": "code",
   "execution_count": 20,
   "metadata": {},
   "outputs": [
    {
     "output_type": "execute_result",
     "data": {
      "text/plain": [
       "2"
      ]
     },
     "metadata": {},
     "execution_count": 20
    }
   ],
   "source": [
    "a = [1,2,3]\n",
    "len(a[:-1])"
   ]
  },
  {
   "cell_type": "code",
   "execution_count": null,
   "metadata": {},
   "outputs": [],
   "source": []
  }
 ]
}