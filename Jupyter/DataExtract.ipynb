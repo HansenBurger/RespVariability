{
 "cells": [
  {
   "cell_type": "markdown",
   "id": "63f48726",
   "metadata": {},
   "source": [
    "#  数据提取"
   ]
  },
  {
   "cell_type": "code",
   "execution_count": 1,
   "id": "3657b978",
   "metadata": {},
   "outputs": [
    {
     "output_type": "stream",
     "name": "stderr",
     "text": [
      "C:\\Main\\Soft\\Conda\\envs\\DF_process\\lib\\site-packages\\IPython\\core\\interactiveshell.py:3165: DtypeWarning: Columns (12,13,14,15,17,18,19,20,165,166,167,168,171,172,173,174,175,176,177,178,179,180,181,183,185,186) have mixed types.Specify dtype option on import or set low_memory=False.\n  has_raised = await self.run_ast_nodes(code_ast.body, cell_name,\n"
     ]
    }
   ],
   "source": [
    "import pandas as pd\n",
    "from datetime import datetime\n",
    "df_concat = pd.read_csv(r'..\\Data\\Format\\DATA.csv' )\n",
    "df_baguan = pd.read_csv(r'..\\Data\\Format\\vent_baguan.csv')"
   ]
  },
  {
   "cell_type": "code",
   "execution_count": 2,
   "metadata": {},
   "outputs": [],
   "source": [
    "pd.set_option('display.max_columns', 60)\n",
    "pd.set_option('display.max_rows', 60)"
   ]
  },
  {
   "cell_type": "code",
   "execution_count": 3,
   "metadata": {},
   "outputs": [],
   "source": [
    "df_baguan.drop(columns = 'Unnamed: 0',inplace=True)"
   ]
  },
  {
   "cell_type": "code",
   "execution_count": 4,
   "metadata": {},
   "outputs": [
    {
     "output_type": "execute_result",
     "data": {
      "text/plain": [
       "   patient_id              入ICU时间             出ICU时间  气切（气切=1）  有创（有创=1）  \\\n",
       "0   1001433.0  2020/5/28 22:00:00  2020/6/8 14:00:00         0         1   \n",
       "1   1001433.0  2020/5/28 22:00:00  2020/6/8 14:00:00         0         1   \n",
       "2   1012422.0   2020/9/3 13:00:00  2020/9/7 14:00:00         0         1   \n",
       "3   1027020.0   2020/6/1 14:00:00  2020/6/4 14:00:00         0         1   \n",
       "4   1030486.0  2020/8/31 07:00:00  2020/9/2 16:00:00         0         1   \n",
       "\n",
       "                 上机时间                插管时间                拔管时间  拔管结局（失败=1）  \\\n",
       "0  2020/5/29 21:31:20  2020/5/29 21:31:20  2020/5/30 06:33:19         1.0   \n",
       "1  2020/5/29 21:31:20  2020/5/30 16:00:16   2020/6/3 16:00:17         0.0   \n",
       "2   2020/9/3 13:51:21   2020/9/3 13:51:21   2020/9/3 20:00:29         0.0   \n",
       "3   2020/6/2 17:51:26   2020/6/2 17:51:26   2020/6/3 08:00:27         0.0   \n",
       "4  2020/8/31 08:00:16  2020/8/31 08:00:16   2020/9/2 14:00:16         1.0   \n",
       "\n",
       "                撤机时间 第一次SBT时间       28MVfreeday           MVtime  \\\n",
       "0  2020/6/4 09:22:42      NaN  22 days 12:08:38  5 days 11:51:22   \n",
       "1  2020/6/4 09:22:42      NaN  22 days 12:08:38  5 days 11:51:22   \n",
       "2  2020/9/3 20:00:29      NaN  27 days 17:50:52  0 days 06:09:08   \n",
       "3  2020/6/3 08:00:27      NaN  27 days 09:50:59  0 days 14:09:01   \n",
       "4  2020/9/2 14:00:16      NaN  25 days 18:00:00  2 days 06:00:00   \n",
       "\n",
       "  第一次SBT到撤机的时间（天）  \n",
       "0             NaN  \n",
       "1             NaN  \n",
       "2             NaN  \n",
       "3             NaN  \n",
       "4             NaN  "
      ],
      "text/html": "<div>\n<style scoped>\n    .dataframe tbody tr th:only-of-type {\n        vertical-align: middle;\n    }\n\n    .dataframe tbody tr th {\n        vertical-align: top;\n    }\n\n    .dataframe thead th {\n        text-align: right;\n    }\n</style>\n<table border=\"1\" class=\"dataframe\">\n  <thead>\n    <tr style=\"text-align: right;\">\n      <th></th>\n      <th>patient_id</th>\n      <th>入ICU时间</th>\n      <th>出ICU时间</th>\n      <th>气切（气切=1）</th>\n      <th>有创（有创=1）</th>\n      <th>上机时间</th>\n      <th>插管时间</th>\n      <th>拔管时间</th>\n      <th>拔管结局（失败=1）</th>\n      <th>撤机时间</th>\n      <th>第一次SBT时间</th>\n      <th>28MVfreeday</th>\n      <th>MVtime</th>\n      <th>第一次SBT到撤机的时间（天）</th>\n    </tr>\n  </thead>\n  <tbody>\n    <tr>\n      <th>0</th>\n      <td>1001433.0</td>\n      <td>2020/5/28 22:00:00</td>\n      <td>2020/6/8 14:00:00</td>\n      <td>0</td>\n      <td>1</td>\n      <td>2020/5/29 21:31:20</td>\n      <td>2020/5/29 21:31:20</td>\n      <td>2020/5/30 06:33:19</td>\n      <td>1.0</td>\n      <td>2020/6/4 09:22:42</td>\n      <td>NaN</td>\n      <td>22 days 12:08:38</td>\n      <td>5 days 11:51:22</td>\n      <td>NaN</td>\n    </tr>\n    <tr>\n      <th>1</th>\n      <td>1001433.0</td>\n      <td>2020/5/28 22:00:00</td>\n      <td>2020/6/8 14:00:00</td>\n      <td>0</td>\n      <td>1</td>\n      <td>2020/5/29 21:31:20</td>\n      <td>2020/5/30 16:00:16</td>\n      <td>2020/6/3 16:00:17</td>\n      <td>0.0</td>\n      <td>2020/6/4 09:22:42</td>\n      <td>NaN</td>\n      <td>22 days 12:08:38</td>\n      <td>5 days 11:51:22</td>\n      <td>NaN</td>\n    </tr>\n    <tr>\n      <th>2</th>\n      <td>1012422.0</td>\n      <td>2020/9/3 13:00:00</td>\n      <td>2020/9/7 14:00:00</td>\n      <td>0</td>\n      <td>1</td>\n      <td>2020/9/3 13:51:21</td>\n      <td>2020/9/3 13:51:21</td>\n      <td>2020/9/3 20:00:29</td>\n      <td>0.0</td>\n      <td>2020/9/3 20:00:29</td>\n      <td>NaN</td>\n      <td>27 days 17:50:52</td>\n      <td>0 days 06:09:08</td>\n      <td>NaN</td>\n    </tr>\n    <tr>\n      <th>3</th>\n      <td>1027020.0</td>\n      <td>2020/6/1 14:00:00</td>\n      <td>2020/6/4 14:00:00</td>\n      <td>0</td>\n      <td>1</td>\n      <td>2020/6/2 17:51:26</td>\n      <td>2020/6/2 17:51:26</td>\n      <td>2020/6/3 08:00:27</td>\n      <td>0.0</td>\n      <td>2020/6/3 08:00:27</td>\n      <td>NaN</td>\n      <td>27 days 09:50:59</td>\n      <td>0 days 14:09:01</td>\n      <td>NaN</td>\n    </tr>\n    <tr>\n      <th>4</th>\n      <td>1030486.0</td>\n      <td>2020/8/31 07:00:00</td>\n      <td>2020/9/2 16:00:00</td>\n      <td>0</td>\n      <td>1</td>\n      <td>2020/8/31 08:00:16</td>\n      <td>2020/8/31 08:00:16</td>\n      <td>2020/9/2 14:00:16</td>\n      <td>1.0</td>\n      <td>2020/9/2 14:00:16</td>\n      <td>NaN</td>\n      <td>25 days 18:00:00</td>\n      <td>2 days 06:00:00</td>\n      <td>NaN</td>\n    </tr>\n  </tbody>\n</table>\n</div>"
     },
     "metadata": {},
     "execution_count": 4
    }
   ],
   "source": [
    "df_baguan.head(5)"
   ]
  },
  {
   "cell_type": "code",
   "execution_count": 5,
   "metadata": {},
   "outputs": [
    {
     "output_type": "execute_result",
     "data": {
      "text/plain": [
       "Series([], Name: 有创（有创=1）, dtype: int64)"
      ]
     },
     "metadata": {},
     "execution_count": 5
    }
   ],
   "source": [
    "filt = df_baguan['有创（有创=1）'] == 0\n",
    "df_baguan.loc[filt , '有创（有创=1）']"
   ]
  },
  {
   "cell_type": "code",
   "execution_count": 14,
   "metadata": {},
   "outputs": [],
   "source": [
    "df_baguan_c = df_baguan[['patient_id', '入ICU时间', '出ICU时间', '气切（气切=1）', '拔管时间', '拔管结局（失败=1）', '第一次SBT时间']]\n",
    "df_baguan_c = df_baguan_c.sort_values('patient_id')"
   ]
  },
  {
   "cell_type": "code",
   "execution_count": 38,
   "metadata": {},
   "outputs": [],
   "source": [
    "df_group = df_baguan_c.groupby('patient_id')"
   ]
  },
  {
   "cell_type": "code",
   "execution_count": 58,
   "metadata": {},
   "outputs": [
    {
     "output_type": "execute_result",
     "data": {
      "text/plain": [
       "array([1001433., 1012422., 1027020., ..., 8154615., 8158809., 8180893.])"
      ]
     },
     "metadata": {},
     "execution_count": 58
    }
   ],
   "source": [
    "pd.unique(df_baguan_c['patient_id'])"
   ]
  },
  {
   "cell_type": "code",
   "execution_count": 71,
   "metadata": {},
   "outputs": [],
   "source": [
    "pid_name_list = pd.unique(df_baguan_c['patient_id'].astype(int))"
   ]
  },
  {
   "cell_type": "code",
   "execution_count": 24,
   "metadata": {},
   "outputs": [
    {
     "output_type": "execute_result",
     "data": {
      "text/plain": [
       "   patient_id  icunum              入ICU时间             出ICU时间  气切  是否有创  \\\n",
       "0   1001433.0       1  2020/5/28 22:00:00  2020/6/8 14:00:00   0     1   \n",
       "1   1001433.0       1  2020/5/28 22:00:00  2020/6/8 14:00:00   0     1   \n",
       "2   1001433.0       1  2020/5/28 22:00:00  2020/6/8 14:00:00   0     1   \n",
       "3   1001433.0       1  2020/5/28 22:00:00  2020/6/8 14:00:00   0     1   \n",
       "4   1001433.0       1  2020/5/28 22:00:00  2020/6/8 14:00:00   0     1   \n",
       "\n",
       "                 上机时间                 撤机 icu_name            record_id  \\\n",
       "0  2020/5/29 21:31:20  2020/6/4 09:22:42    ICU3F  ZD88319120052801P5R   \n",
       "1  2020/5/29 21:31:20  2020/6/4 09:22:42    ICU3F  ZD88319120052801P5R   \n",
       "2  2020/5/29 21:31:20  2020/6/4 09:22:42    ICU3F  ZD88319120052801P5R   \n",
       "3  2020/5/29 21:31:20  2020/6/4 09:22:42    ICU3F  ZD88319120052801P5R   \n",
       "4  2020/5/29 21:31:20  2020/6/4 09:22:42    ICU3F  ZD88319120052801P5R   \n",
       "\n",
       "           record_time  ventnum              记录时间_1                RID_1  \\\n",
       "0  2020-05-29 21:31:20        0                 NaN                  NaN   \n",
       "1  2020-05-29 22:00:18        1  2020/5/29 22:00:00  ZD88319120052801P5R   \n",
       "2  2020-05-30 00:00:18        1  2020/5/29 23:04:17  ZD88319120052801P5R   \n",
       "3  2020-05-30 00:00:18        1  2020/5/30 00:00:00  ZD88319120052801P5R   \n",
       "4  2020-05-30 01:32:17        1  2020/5/30 01:00:02  ZD88319120052801P5R   \n",
       "\n",
       "                     zdt_1                    zpx_1  MODEL_1 记录时间_2 RID_2  \\\n",
       "0                      NaN                      NaN      NaN    NaN   NaN   \n",
       "1  ZD88319120052801P5R_023  ZD88319120052801P5R_023      3.0    NaN   NaN   \n",
       "2  ZD88319120052801P5R_024  ZD88319120052801P5R_024      3.0    NaN   NaN   \n",
       "3  ZD88319120052801P5R_025  ZD88319120052801P5R_025      3.0    NaN   NaN   \n",
       "4  ZD88319120052801P5R_026  ZD88319120052801P5R_026      3.0    NaN   NaN   \n",
       "\n",
       "  zdt_2 zpx_2  MODEL_2  record_flag   data_index          device_ip  Device  \\\n",
       "0   NaN   NaN      NaN         25.0   61492108.0  98-D8-63-11-A9-C1  Evita4   \n",
       "1   NaN   NaN      NaN          1.0  179340272.0  98-D8-63-11-A9-C1  Evita4   \n",
       "2   NaN   NaN      NaN          1.0  415237120.0  98-D8-63-11-A9-C1  Evita4   \n",
       "3   NaN   NaN      NaN          1.0  415237120.0  98-D8-63-11-A9-C1  Evita4   \n",
       "4   NaN   NaN      NaN         25.0  533387648.0  98-D8-63-11-A9-C1  Evita4   \n",
       "\n",
       "  Type          Mode  Pinsp  Psupp  ...  同型半胱氨酸  前降钙素  Leak  PEF  VC  MIP  \\\n",
       "0   IV  BIPAP_ASSIST   20.0    0.0  ...     NaN   NaN   NaN  NaN NaN  NaN   \n",
       "1   IV  BIPAP_ASSIST   20.0    0.0  ...     NaN   NaN   NaN  NaN NaN  NaN   \n",
       "2   IV  BIPAP_ASSIST   20.0    0.0  ...     NaN   NaN   NaN  NaN NaN  NaN   \n",
       "3   IV  BIPAP_ASSIST   20.0    0.0  ...     NaN   NaN   NaN  NaN NaN  NaN   \n",
       "4   IV  BIPAP_ASSIST   20.0    0.0  ...     NaN   NaN   NaN  NaN NaN  NaN   \n",
       "\n",
       "    抬头   握力  Resp_MV  Resp_P01  Resp_PEEP  Resp_Ps  辅助呼吸肌评分  RSB  ABG_HCO3  \\\n",
       "0  NaN  NaN      NaN       NaN        NaN      NaN      NaN  NaN       NaN   \n",
       "1  NaN  NaN      NaN       NaN        NaN      NaN      NaN  NaN       NaN   \n",
       "2  NaN  NaN      NaN       NaN        NaN      NaN      NaN  NaN       NaN   \n",
       "3  NaN  NaN      NaN       NaN        NaN      NaN      NaN  NaN       NaN   \n",
       "4  NaN  NaN      NaN       NaN        NaN      NaN      NaN  NaN       NaN   \n",
       "\n",
       "   ABG_BE  ABG_PACO2  ABG_PAO2  ABG_PH  ABG_FIO2  Resp_VT  Resp_MV_1  \\\n",
       "0     NaN        NaN       NaN     NaN       NaN      NaN        NaN   \n",
       "1     NaN        NaN       NaN     NaN       NaN      NaN        NaN   \n",
       "2     NaN        NaN       NaN     NaN       NaN      NaN        NaN   \n",
       "3     NaN        NaN       NaN     NaN       NaN      NaN        NaN   \n",
       "4     NaN        NaN       NaN     NaN       NaN      NaN        NaN   \n",
       "\n",
       "   Resp_PEEP_1  Resp_Ps_1  Resp_Pi  Resp_Mode  Param_C  Param_R  Param_P01  \\\n",
       "0          NaN        NaN      NaN        NaN      NaN      NaN        NaN   \n",
       "1          NaN        NaN      NaN        NaN      NaN      NaN        NaN   \n",
       "2          NaN        NaN      NaN        NaN      NaN      NaN        NaN   \n",
       "3          NaN        NaN      NaN        NaN      NaN      NaN        NaN   \n",
       "4          NaN        NaN      NaN        NaN      NaN      NaN        NaN   \n",
       "\n",
       "   Param_Ppl  \n",
       "0        NaN  \n",
       "1        NaN  \n",
       "2        NaN  \n",
       "3        NaN  \n",
       "4        NaN  \n",
       "\n",
       "[5 rows x 190 columns]"
      ],
      "text/html": "<div>\n<style scoped>\n    .dataframe tbody tr th:only-of-type {\n        vertical-align: middle;\n    }\n\n    .dataframe tbody tr th {\n        vertical-align: top;\n    }\n\n    .dataframe thead th {\n        text-align: right;\n    }\n</style>\n<table border=\"1\" class=\"dataframe\">\n  <thead>\n    <tr style=\"text-align: right;\">\n      <th></th>\n      <th>patient_id</th>\n      <th>icunum</th>\n      <th>入ICU时间</th>\n      <th>出ICU时间</th>\n      <th>气切</th>\n      <th>是否有创</th>\n      <th>上机时间</th>\n      <th>撤机</th>\n      <th>icu_name</th>\n      <th>record_id</th>\n      <th>record_time</th>\n      <th>ventnum</th>\n      <th>记录时间_1</th>\n      <th>RID_1</th>\n      <th>zdt_1</th>\n      <th>zpx_1</th>\n      <th>MODEL_1</th>\n      <th>记录时间_2</th>\n      <th>RID_2</th>\n      <th>zdt_2</th>\n      <th>zpx_2</th>\n      <th>MODEL_2</th>\n      <th>record_flag</th>\n      <th>data_index</th>\n      <th>device_ip</th>\n      <th>Device</th>\n      <th>Type</th>\n      <th>Mode</th>\n      <th>Pinsp</th>\n      <th>Psupp</th>\n      <th>...</th>\n      <th>同型半胱氨酸</th>\n      <th>前降钙素</th>\n      <th>Leak</th>\n      <th>PEF</th>\n      <th>VC</th>\n      <th>MIP</th>\n      <th>抬头</th>\n      <th>握力</th>\n      <th>Resp_MV</th>\n      <th>Resp_P01</th>\n      <th>Resp_PEEP</th>\n      <th>Resp_Ps</th>\n      <th>辅助呼吸肌评分</th>\n      <th>RSB</th>\n      <th>ABG_HCO3</th>\n      <th>ABG_BE</th>\n      <th>ABG_PACO2</th>\n      <th>ABG_PAO2</th>\n      <th>ABG_PH</th>\n      <th>ABG_FIO2</th>\n      <th>Resp_VT</th>\n      <th>Resp_MV_1</th>\n      <th>Resp_PEEP_1</th>\n      <th>Resp_Ps_1</th>\n      <th>Resp_Pi</th>\n      <th>Resp_Mode</th>\n      <th>Param_C</th>\n      <th>Param_R</th>\n      <th>Param_P01</th>\n      <th>Param_Ppl</th>\n    </tr>\n  </thead>\n  <tbody>\n    <tr>\n      <th>0</th>\n      <td>1001433.0</td>\n      <td>1</td>\n      <td>2020/5/28 22:00:00</td>\n      <td>2020/6/8 14:00:00</td>\n      <td>0</td>\n      <td>1</td>\n      <td>2020/5/29 21:31:20</td>\n      <td>2020/6/4 09:22:42</td>\n      <td>ICU3F</td>\n      <td>ZD88319120052801P5R</td>\n      <td>2020-05-29 21:31:20</td>\n      <td>0</td>\n      <td>NaN</td>\n      <td>NaN</td>\n      <td>NaN</td>\n      <td>NaN</td>\n      <td>NaN</td>\n      <td>NaN</td>\n      <td>NaN</td>\n      <td>NaN</td>\n      <td>NaN</td>\n      <td>NaN</td>\n      <td>25.0</td>\n      <td>61492108.0</td>\n      <td>98-D8-63-11-A9-C1</td>\n      <td>Evita4</td>\n      <td>IV</td>\n      <td>BIPAP_ASSIST</td>\n      <td>20.0</td>\n      <td>0.0</td>\n      <td>...</td>\n      <td>NaN</td>\n      <td>NaN</td>\n      <td>NaN</td>\n      <td>NaN</td>\n      <td>NaN</td>\n      <td>NaN</td>\n      <td>NaN</td>\n      <td>NaN</td>\n      <td>NaN</td>\n      <td>NaN</td>\n      <td>NaN</td>\n      <td>NaN</td>\n      <td>NaN</td>\n      <td>NaN</td>\n      <td>NaN</td>\n      <td>NaN</td>\n      <td>NaN</td>\n      <td>NaN</td>\n      <td>NaN</td>\n      <td>NaN</td>\n      <td>NaN</td>\n      <td>NaN</td>\n      <td>NaN</td>\n      <td>NaN</td>\n      <td>NaN</td>\n      <td>NaN</td>\n      <td>NaN</td>\n      <td>NaN</td>\n      <td>NaN</td>\n      <td>NaN</td>\n    </tr>\n    <tr>\n      <th>1</th>\n      <td>1001433.0</td>\n      <td>1</td>\n      <td>2020/5/28 22:00:00</td>\n      <td>2020/6/8 14:00:00</td>\n      <td>0</td>\n      <td>1</td>\n      <td>2020/5/29 21:31:20</td>\n      <td>2020/6/4 09:22:42</td>\n      <td>ICU3F</td>\n      <td>ZD88319120052801P5R</td>\n      <td>2020-05-29 22:00:18</td>\n      <td>1</td>\n      <td>2020/5/29 22:00:00</td>\n      <td>ZD88319120052801P5R</td>\n      <td>ZD88319120052801P5R_023</td>\n      <td>ZD88319120052801P5R_023</td>\n      <td>3.0</td>\n      <td>NaN</td>\n      <td>NaN</td>\n      <td>NaN</td>\n      <td>NaN</td>\n      <td>NaN</td>\n      <td>1.0</td>\n      <td>179340272.0</td>\n      <td>98-D8-63-11-A9-C1</td>\n      <td>Evita4</td>\n      <td>IV</td>\n      <td>BIPAP_ASSIST</td>\n      <td>20.0</td>\n      <td>0.0</td>\n      <td>...</td>\n      <td>NaN</td>\n      <td>NaN</td>\n      <td>NaN</td>\n      <td>NaN</td>\n      <td>NaN</td>\n      <td>NaN</td>\n      <td>NaN</td>\n      <td>NaN</td>\n      <td>NaN</td>\n      <td>NaN</td>\n      <td>NaN</td>\n      <td>NaN</td>\n      <td>NaN</td>\n      <td>NaN</td>\n      <td>NaN</td>\n      <td>NaN</td>\n      <td>NaN</td>\n      <td>NaN</td>\n      <td>NaN</td>\n      <td>NaN</td>\n      <td>NaN</td>\n      <td>NaN</td>\n      <td>NaN</td>\n      <td>NaN</td>\n      <td>NaN</td>\n      <td>NaN</td>\n      <td>NaN</td>\n      <td>NaN</td>\n      <td>NaN</td>\n      <td>NaN</td>\n    </tr>\n    <tr>\n      <th>2</th>\n      <td>1001433.0</td>\n      <td>1</td>\n      <td>2020/5/28 22:00:00</td>\n      <td>2020/6/8 14:00:00</td>\n      <td>0</td>\n      <td>1</td>\n      <td>2020/5/29 21:31:20</td>\n      <td>2020/6/4 09:22:42</td>\n      <td>ICU3F</td>\n      <td>ZD88319120052801P5R</td>\n      <td>2020-05-30 00:00:18</td>\n      <td>1</td>\n      <td>2020/5/29 23:04:17</td>\n      <td>ZD88319120052801P5R</td>\n      <td>ZD88319120052801P5R_024</td>\n      <td>ZD88319120052801P5R_024</td>\n      <td>3.0</td>\n      <td>NaN</td>\n      <td>NaN</td>\n      <td>NaN</td>\n      <td>NaN</td>\n      <td>NaN</td>\n      <td>1.0</td>\n      <td>415237120.0</td>\n      <td>98-D8-63-11-A9-C1</td>\n      <td>Evita4</td>\n      <td>IV</td>\n      <td>BIPAP_ASSIST</td>\n      <td>20.0</td>\n      <td>0.0</td>\n      <td>...</td>\n      <td>NaN</td>\n      <td>NaN</td>\n      <td>NaN</td>\n      <td>NaN</td>\n      <td>NaN</td>\n      <td>NaN</td>\n      <td>NaN</td>\n      <td>NaN</td>\n      <td>NaN</td>\n      <td>NaN</td>\n      <td>NaN</td>\n      <td>NaN</td>\n      <td>NaN</td>\n      <td>NaN</td>\n      <td>NaN</td>\n      <td>NaN</td>\n      <td>NaN</td>\n      <td>NaN</td>\n      <td>NaN</td>\n      <td>NaN</td>\n      <td>NaN</td>\n      <td>NaN</td>\n      <td>NaN</td>\n      <td>NaN</td>\n      <td>NaN</td>\n      <td>NaN</td>\n      <td>NaN</td>\n      <td>NaN</td>\n      <td>NaN</td>\n      <td>NaN</td>\n    </tr>\n    <tr>\n      <th>3</th>\n      <td>1001433.0</td>\n      <td>1</td>\n      <td>2020/5/28 22:00:00</td>\n      <td>2020/6/8 14:00:00</td>\n      <td>0</td>\n      <td>1</td>\n      <td>2020/5/29 21:31:20</td>\n      <td>2020/6/4 09:22:42</td>\n      <td>ICU3F</td>\n      <td>ZD88319120052801P5R</td>\n      <td>2020-05-30 00:00:18</td>\n      <td>1</td>\n      <td>2020/5/30 00:00:00</td>\n      <td>ZD88319120052801P5R</td>\n      <td>ZD88319120052801P5R_025</td>\n      <td>ZD88319120052801P5R_025</td>\n      <td>3.0</td>\n      <td>NaN</td>\n      <td>NaN</td>\n      <td>NaN</td>\n      <td>NaN</td>\n      <td>NaN</td>\n      <td>1.0</td>\n      <td>415237120.0</td>\n      <td>98-D8-63-11-A9-C1</td>\n      <td>Evita4</td>\n      <td>IV</td>\n      <td>BIPAP_ASSIST</td>\n      <td>20.0</td>\n      <td>0.0</td>\n      <td>...</td>\n      <td>NaN</td>\n      <td>NaN</td>\n      <td>NaN</td>\n      <td>NaN</td>\n      <td>NaN</td>\n      <td>NaN</td>\n      <td>NaN</td>\n      <td>NaN</td>\n      <td>NaN</td>\n      <td>NaN</td>\n      <td>NaN</td>\n      <td>NaN</td>\n      <td>NaN</td>\n      <td>NaN</td>\n      <td>NaN</td>\n      <td>NaN</td>\n      <td>NaN</td>\n      <td>NaN</td>\n      <td>NaN</td>\n      <td>NaN</td>\n      <td>NaN</td>\n      <td>NaN</td>\n      <td>NaN</td>\n      <td>NaN</td>\n      <td>NaN</td>\n      <td>NaN</td>\n      <td>NaN</td>\n      <td>NaN</td>\n      <td>NaN</td>\n      <td>NaN</td>\n    </tr>\n    <tr>\n      <th>4</th>\n      <td>1001433.0</td>\n      <td>1</td>\n      <td>2020/5/28 22:00:00</td>\n      <td>2020/6/8 14:00:00</td>\n      <td>0</td>\n      <td>1</td>\n      <td>2020/5/29 21:31:20</td>\n      <td>2020/6/4 09:22:42</td>\n      <td>ICU3F</td>\n      <td>ZD88319120052801P5R</td>\n      <td>2020-05-30 01:32:17</td>\n      <td>1</td>\n      <td>2020/5/30 01:00:02</td>\n      <td>ZD88319120052801P5R</td>\n      <td>ZD88319120052801P5R_026</td>\n      <td>ZD88319120052801P5R_026</td>\n      <td>3.0</td>\n      <td>NaN</td>\n      <td>NaN</td>\n      <td>NaN</td>\n      <td>NaN</td>\n      <td>NaN</td>\n      <td>25.0</td>\n      <td>533387648.0</td>\n      <td>98-D8-63-11-A9-C1</td>\n      <td>Evita4</td>\n      <td>IV</td>\n      <td>BIPAP_ASSIST</td>\n      <td>20.0</td>\n      <td>0.0</td>\n      <td>...</td>\n      <td>NaN</td>\n      <td>NaN</td>\n      <td>NaN</td>\n      <td>NaN</td>\n      <td>NaN</td>\n      <td>NaN</td>\n      <td>NaN</td>\n      <td>NaN</td>\n      <td>NaN</td>\n      <td>NaN</td>\n      <td>NaN</td>\n      <td>NaN</td>\n      <td>NaN</td>\n      <td>NaN</td>\n      <td>NaN</td>\n      <td>NaN</td>\n      <td>NaN</td>\n      <td>NaN</td>\n      <td>NaN</td>\n      <td>NaN</td>\n      <td>NaN</td>\n      <td>NaN</td>\n      <td>NaN</td>\n      <td>NaN</td>\n      <td>NaN</td>\n      <td>NaN</td>\n      <td>NaN</td>\n      <td>NaN</td>\n      <td>NaN</td>\n      <td>NaN</td>\n    </tr>\n  </tbody>\n</table>\n<p>5 rows × 190 columns</p>\n</div>"
     },
     "metadata": {},
     "execution_count": 24
    }
   ],
   "source": [
    "df_concat.head()"
   ]
  },
  {
   "cell_type": "code",
   "execution_count": 40,
   "metadata": {},
   "outputs": [
    {
     "output_type": "execute_result",
     "data": {
      "text/plain": [
       "      patient_id              入ICU时间              出ICU时间  气切（气切=1）  \\\n",
       "0      1001433.0  2020/5/28 22:00:00   2020/6/8 14:00:00         0   \n",
       "1      1001433.0  2020/5/28 22:00:00   2020/6/8 14:00:00         0   \n",
       "2      1012422.0   2020/9/3 13:00:00   2020/9/7 14:00:00         0   \n",
       "3      1027020.0   2020/6/1 14:00:00   2020/6/4 14:00:00         0   \n",
       "4      1030486.0  2020/8/31 07:00:00   2020/9/2 16:00:00         0   \n",
       "...          ...                 ...                 ...       ...   \n",
       "2619   8152029.0  2020/2/15 14:00:00  2020/2/21 14:00:00         0   \n",
       "2620   8154615.0  2020/4/30 23:00:00   2020/5/1 07:00:00         0   \n",
       "2621   8158809.0  2020/6/28 19:00:00  2020/6/29 11:00:00         0   \n",
       "2622   8180893.0  2020/7/26 17:00:00   2020/8/4 10:00:00         0   \n",
       "2623   8180893.0  2020/7/26 17:00:00   2020/8/4 10:00:00         0   \n",
       "\n",
       "                    拔管时间  拔管结局（失败=1） 第一次SBT时间  \n",
       "0     2020/5/30 06:33:19         1.0      NaN  \n",
       "1      2020/6/3 16:00:17         0.0      NaN  \n",
       "2      2020/9/3 20:00:29         0.0      NaN  \n",
       "3      2020/6/3 08:00:27         0.0      NaN  \n",
       "4      2020/9/2 14:00:16         1.0      NaN  \n",
       "...                  ...         ...      ...  \n",
       "2619  2020/2/18 14:00:15         0.0      NaN  \n",
       "2620   2020/5/1 06:00:15         0.0      NaN  \n",
       "2621  2020/6/29 08:34:48         0.0      NaN  \n",
       "2622  2020/7/26 20:00:17         1.0      NaN  \n",
       "2623  2020/7/27 15:02:22         0.0      NaN  \n",
       "\n",
       "[2624 rows x 7 columns]"
      ],
      "text/html": "<div>\n<style scoped>\n    .dataframe tbody tr th:only-of-type {\n        vertical-align: middle;\n    }\n\n    .dataframe tbody tr th {\n        vertical-align: top;\n    }\n\n    .dataframe thead th {\n        text-align: right;\n    }\n</style>\n<table border=\"1\" class=\"dataframe\">\n  <thead>\n    <tr style=\"text-align: right;\">\n      <th></th>\n      <th>patient_id</th>\n      <th>入ICU时间</th>\n      <th>出ICU时间</th>\n      <th>气切（气切=1）</th>\n      <th>拔管时间</th>\n      <th>拔管结局（失败=1）</th>\n      <th>第一次SBT时间</th>\n    </tr>\n  </thead>\n  <tbody>\n    <tr>\n      <th>0</th>\n      <td>1001433.0</td>\n      <td>2020/5/28 22:00:00</td>\n      <td>2020/6/8 14:00:00</td>\n      <td>0</td>\n      <td>2020/5/30 06:33:19</td>\n      <td>1.0</td>\n      <td>NaN</td>\n    </tr>\n    <tr>\n      <th>1</th>\n      <td>1001433.0</td>\n      <td>2020/5/28 22:00:00</td>\n      <td>2020/6/8 14:00:00</td>\n      <td>0</td>\n      <td>2020/6/3 16:00:17</td>\n      <td>0.0</td>\n      <td>NaN</td>\n    </tr>\n    <tr>\n      <th>2</th>\n      <td>1012422.0</td>\n      <td>2020/9/3 13:00:00</td>\n      <td>2020/9/7 14:00:00</td>\n      <td>0</td>\n      <td>2020/9/3 20:00:29</td>\n      <td>0.0</td>\n      <td>NaN</td>\n    </tr>\n    <tr>\n      <th>3</th>\n      <td>1027020.0</td>\n      <td>2020/6/1 14:00:00</td>\n      <td>2020/6/4 14:00:00</td>\n      <td>0</td>\n      <td>2020/6/3 08:00:27</td>\n      <td>0.0</td>\n      <td>NaN</td>\n    </tr>\n    <tr>\n      <th>4</th>\n      <td>1030486.0</td>\n      <td>2020/8/31 07:00:00</td>\n      <td>2020/9/2 16:00:00</td>\n      <td>0</td>\n      <td>2020/9/2 14:00:16</td>\n      <td>1.0</td>\n      <td>NaN</td>\n    </tr>\n    <tr>\n      <th>...</th>\n      <td>...</td>\n      <td>...</td>\n      <td>...</td>\n      <td>...</td>\n      <td>...</td>\n      <td>...</td>\n      <td>...</td>\n    </tr>\n    <tr>\n      <th>2619</th>\n      <td>8152029.0</td>\n      <td>2020/2/15 14:00:00</td>\n      <td>2020/2/21 14:00:00</td>\n      <td>0</td>\n      <td>2020/2/18 14:00:15</td>\n      <td>0.0</td>\n      <td>NaN</td>\n    </tr>\n    <tr>\n      <th>2620</th>\n      <td>8154615.0</td>\n      <td>2020/4/30 23:00:00</td>\n      <td>2020/5/1 07:00:00</td>\n      <td>0</td>\n      <td>2020/5/1 06:00:15</td>\n      <td>0.0</td>\n      <td>NaN</td>\n    </tr>\n    <tr>\n      <th>2621</th>\n      <td>8158809.0</td>\n      <td>2020/6/28 19:00:00</td>\n      <td>2020/6/29 11:00:00</td>\n      <td>0</td>\n      <td>2020/6/29 08:34:48</td>\n      <td>0.0</td>\n      <td>NaN</td>\n    </tr>\n    <tr>\n      <th>2622</th>\n      <td>8180893.0</td>\n      <td>2020/7/26 17:00:00</td>\n      <td>2020/8/4 10:00:00</td>\n      <td>0</td>\n      <td>2020/7/26 20:00:17</td>\n      <td>1.0</td>\n      <td>NaN</td>\n    </tr>\n    <tr>\n      <th>2623</th>\n      <td>8180893.0</td>\n      <td>2020/7/26 17:00:00</td>\n      <td>2020/8/4 10:00:00</td>\n      <td>0</td>\n      <td>2020/7/27 15:02:22</td>\n      <td>0.0</td>\n      <td>NaN</td>\n    </tr>\n  </tbody>\n</table>\n<p>2624 rows × 7 columns</p>\n</div>"
     },
     "metadata": {},
     "execution_count": 40
    }
   ],
   "source": [
    "\n",
    "df_baguan_c"
   ]
  },
  {
   "cell_type": "code",
   "execution_count": 41,
   "metadata": {},
   "outputs": [],
   "source": [
    "df_baguan_c['拔管时间'] = pd.to_datetime(df_baguan_c['拔管时间'], format = '%Y/%m/%d %X')"
   ]
  },
  {
   "cell_type": "code",
   "execution_count": 42,
   "metadata": {},
   "outputs": [
    {
     "output_type": "execute_result",
     "data": {
      "text/plain": [
       "0   2020-05-30 06:33:19\n",
       "1   2020-06-03 16:00:17\n",
       "2   2020-09-03 20:00:29\n",
       "3   2020-06-03 08:00:27\n",
       "4   2020-09-02 14:00:16\n",
       "Name: 拔管时间, dtype: datetime64[ns]"
      ]
     },
     "metadata": {},
     "execution_count": 42
    }
   ],
   "source": [
    "df_baguan_c['拔管时间'].head()"
   ]
  },
  {
   "cell_type": "code",
   "execution_count": 52,
   "metadata": {},
   "outputs": [
    {
     "output_type": "execute_result",
     "data": {
      "text/plain": [
       "'2020-05-30 06:00:16'"
      ]
     },
     "metadata": {},
     "execution_count": 52
    }
   ],
   "source": [
    "df_concat.loc[8,'record_time']"
   ]
  },
  {
   "cell_type": "code",
   "execution_count": 54,
   "metadata": {},
   "outputs": [
    {
     "output_type": "execute_result",
     "data": {
      "text/plain": [
       "'2020/5/30 05:24:39'"
      ]
     },
     "metadata": {},
     "execution_count": 54
    }
   ],
   "source": [
    "df_concat.loc[8,'记录时间_1']"
   ]
  },
  {
   "cell_type": "code",
   "execution_count": 55,
   "metadata": {},
   "outputs": [
    {
     "output_type": "execute_result",
     "data": {
      "text/plain": [
       "'2020/5/30 06:00:01'"
      ]
     },
     "metadata": {},
     "execution_count": 55
    }
   ],
   "source": [
    "df_concat.loc[9,'记录时间_1']"
   ]
  },
  {
   "cell_type": "code",
   "execution_count": null,
   "metadata": {},
   "outputs": [],
   "source": []
  }
 ],
 "metadata": {
  "kernelspec": {
   "name": "python3",
   "display_name": "Python 3.8.8 64-bit ('DF_process': conda)"
  },
  "language_info": {
   "codemirror_mode": {
    "name": "ipython",
    "version": 3
   },
   "file_extension": ".py",
   "mimetype": "text/x-python",
   "name": "python",
   "nbconvert_exporter": "python",
   "pygments_lexer": "ipython3",
   "version": "3.8.8"
  },
  "interpreter": {
   "hash": "fc883ce4be776a00668950b7133d030a15826a94400e8f6b01ca8fd8f53ab3b3"
  }
 },
 "nbformat": 4,
 "nbformat_minor": 5
}