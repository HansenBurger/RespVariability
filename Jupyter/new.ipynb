{
 "metadata": {
  "language_info": {
   "codemirror_mode": {
    "name": "ipython",
    "version": 3
   },
   "file_extension": ".py",
   "mimetype": "text/x-python",
   "name": "python",
   "nbconvert_exporter": "python",
   "pygments_lexer": "ipython3",
   "version": "3.8.8"
  },
  "orig_nbformat": 4,
  "kernelspec": {
   "name": "python3",
   "display_name": "Python 3.8.8 64-bit ('DF_process': conda)"
  },
  "interpreter": {
   "hash": "fc883ce4be776a00668950b7133d030a15826a94400e8f6b01ca8fd8f53ab3b3"
  }
 },
 "nbformat": 4,
 "nbformat_minor": 2,
 "cells": [
  {
   "cell_type": "code",
   "execution_count": 1,
   "outputs": [],
   "source": [
    "import sys, pathlib\n",
    "sys.path.append(str(pathlib.Path.cwd().parents[0]))"
   ],
   "metadata": {
    "collapsed": false,
    "pycharm": {
     "name": "#%%\n"
    }
   }
  },
  {
   "cell_type": "code",
   "execution_count": 2,
   "metadata": {},
   "outputs": [],
   "source": [
    "from Code import FormPreProcess, InIReaWri"
   ]
  },
  {
   "cell_type": "code",
   "execution_count": 3,
   "metadata": {},
   "outputs": [],
   "source": [
    "concat_loc = InIReaWri.ConfigR('FormRoute', 'MainDataForm', conf=None)\n",
    "baguan_loc = InIReaWri.ConfigR('FormRoute', 'BaguanForm', conf=None)"
   ]
  },
  {
   "cell_type": "code",
   "execution_count": 4,
   "metadata": {},
   "outputs": [
    {
     "output_type": "stream",
     "name": "stderr",
     "text": [
      "C:\\Main\\Soft\\Conda\\envs\\DF_process\\lib\\site-packages\\IPython\\core\\interactiveshell.py:3357: DtypeWarning: Columns (12,13,14,15,17,18,19,20,165,166,167,168,171,172,173,174,175,176,177,178,179,180,181,183,185,186) have mixed types.Specify dtype option on import or set low_memory=False.\n  if (await self.run_code(code, result,  async_=asy)):\n"
     ]
    }
   ],
   "source": [
    "df_concat = FormPreProcess.FormProcess(concat_loc, ['上机时间'], 'patient_id')\n",
    "df_baguan = FormPreProcess.FormProcess(baguan_loc, ['上机时间'], 'patient_id')"
   ]
  },
  {
   "cell_type": "code",
   "execution_count": 5,
   "metadata": {},
   "outputs": [],
   "source": [
    "timecol = [\n",
    "    \"入ICU时间\",\n",
    "    \"出ICU时间\",\n",
    "    \"上机时间\",\n",
    "    \"撤机\",\n",
    "    \"record_time\",\n",
    "    \"记录时间_1\",\n",
    "    \"插管时间\",\n",
    "    \"拔管时间\",\n",
    "    \"撤机时间\",\n",
    "    \"第一次SBT时间\",\n",
    "]\n",
    "FormPreProcess.TimeShift(df_concat, timecol)\n",
    "FormPreProcess.TimeShift(df_baguan, timecol)"
   ]
  },
  {
   "cell_type": "code",
   "execution_count": 6,
   "metadata": {},
   "outputs": [
    {
     "output_type": "execute_result",
     "data": {
      "text/plain": [
       "入ICU时间         2020-10-25 14:00:00\n",
       "出ICU时间         2020-10-28 10:00:00\n",
       "上机时间           2020-10-25 15:43:00\n",
       "撤机             2020-10-25 16:12:20\n",
       "record_time    2020-10-25 16:03:25\n",
       "记录时间_1         2020-10-25 15:48:58\n",
       "Name: 160272, dtype: object"
      ]
     },
     "metadata": {},
     "execution_count": 6
    }
   ],
   "source": [
    "df_concat.sort_values(by='记录时间_1',ascending=False).loc[160272,['入ICU时间', '出ICU时间', '上机时间', '撤机', 'record_time', '记录时间_1']]"
   ]
  },
  {
   "cell_type": "code",
   "execution_count": 7,
   "metadata": {},
   "outputs": [
    {
     "output_type": "execute_result",
     "data": {
      "text/plain": [
       "   Unnamed: 0  patient_id              入ICU时间              出ICU时间  气切（气切=1）  \\\n",
       "0           0     1001433 2020-05-28 22:00:00 2020-06-08 14:00:00         0   \n",
       "1           1     1001433 2020-05-28 22:00:00 2020-06-08 14:00:00         0   \n",
       "2           2     1012422 2020-09-03 13:00:00 2020-09-07 14:00:00         0   \n",
       "3           3     1027020 2020-06-01 14:00:00 2020-06-04 14:00:00         0   \n",
       "4           6     1030486 2020-08-31 07:00:00 2020-09-02 16:00:00         0   \n",
       "\n",
       "   有创（有创=1）                上机时间                插管时间                拔管时间  \\\n",
       "0         1 2020-05-29 21:31:20 2020-05-29 21:31:20 2020-05-30 06:33:19   \n",
       "1         1 2020-05-29 21:31:20 2020-05-30 16:00:16 2020-06-03 16:00:17   \n",
       "2         1 2020-09-03 13:51:21 2020-09-03 13:51:21 2020-09-03 20:00:29   \n",
       "3         1 2020-06-02 17:51:26 2020-06-02 17:51:26 2020-06-03 08:00:27   \n",
       "4         1 2020-08-31 08:00:16 2020-08-31 08:00:16 2020-09-02 14:00:16   \n",
       "\n",
       "   拔管结局（失败=1）                撤机时间 第一次SBT时间       28MVfreeday           MVtime  \\\n",
       "0         1.0 2020-06-04 09:22:42      NaT  22 days 12:08:38  5 days 11:51:22   \n",
       "1         0.0 2020-06-04 09:22:42      NaT  22 days 12:08:38  5 days 11:51:22   \n",
       "2         0.0 2020-09-03 20:00:29      NaT  27 days 17:50:52  0 days 06:09:08   \n",
       "3         0.0 2020-06-03 08:00:27      NaT  27 days 09:50:59  0 days 14:09:01   \n",
       "4         1.0 2020-09-02 14:00:16      NaT  25 days 18:00:00  2 days 06:00:00   \n",
       "\n",
       "  第一次SBT到撤机的时间（天）  Index  \n",
       "0             NaN      0  \n",
       "1             NaN      1  \n",
       "2             NaN      2  \n",
       "3             NaN      3  \n",
       "4             NaN      4  "
      ],
      "text/html": "<div>\n<style scoped>\n    .dataframe tbody tr th:only-of-type {\n        vertical-align: middle;\n    }\n\n    .dataframe tbody tr th {\n        vertical-align: top;\n    }\n\n    .dataframe thead th {\n        text-align: right;\n    }\n</style>\n<table border=\"1\" class=\"dataframe\">\n  <thead>\n    <tr style=\"text-align: right;\">\n      <th></th>\n      <th>Unnamed: 0</th>\n      <th>patient_id</th>\n      <th>入ICU时间</th>\n      <th>出ICU时间</th>\n      <th>气切（气切=1）</th>\n      <th>有创（有创=1）</th>\n      <th>上机时间</th>\n      <th>插管时间</th>\n      <th>拔管时间</th>\n      <th>拔管结局（失败=1）</th>\n      <th>撤机时间</th>\n      <th>第一次SBT时间</th>\n      <th>28MVfreeday</th>\n      <th>MVtime</th>\n      <th>第一次SBT到撤机的时间（天）</th>\n      <th>Index</th>\n    </tr>\n  </thead>\n  <tbody>\n    <tr>\n      <th>0</th>\n      <td>0</td>\n      <td>1001433</td>\n      <td>2020-05-28 22:00:00</td>\n      <td>2020-06-08 14:00:00</td>\n      <td>0</td>\n      <td>1</td>\n      <td>2020-05-29 21:31:20</td>\n      <td>2020-05-29 21:31:20</td>\n      <td>2020-05-30 06:33:19</td>\n      <td>1.0</td>\n      <td>2020-06-04 09:22:42</td>\n      <td>NaT</td>\n      <td>22 days 12:08:38</td>\n      <td>5 days 11:51:22</td>\n      <td>NaN</td>\n      <td>0</td>\n    </tr>\n    <tr>\n      <th>1</th>\n      <td>1</td>\n      <td>1001433</td>\n      <td>2020-05-28 22:00:00</td>\n      <td>2020-06-08 14:00:00</td>\n      <td>0</td>\n      <td>1</td>\n      <td>2020-05-29 21:31:20</td>\n      <td>2020-05-30 16:00:16</td>\n      <td>2020-06-03 16:00:17</td>\n      <td>0.0</td>\n      <td>2020-06-04 09:22:42</td>\n      <td>NaT</td>\n      <td>22 days 12:08:38</td>\n      <td>5 days 11:51:22</td>\n      <td>NaN</td>\n      <td>1</td>\n    </tr>\n    <tr>\n      <th>2</th>\n      <td>2</td>\n      <td>1012422</td>\n      <td>2020-09-03 13:00:00</td>\n      <td>2020-09-07 14:00:00</td>\n      <td>0</td>\n      <td>1</td>\n      <td>2020-09-03 13:51:21</td>\n      <td>2020-09-03 13:51:21</td>\n      <td>2020-09-03 20:00:29</td>\n      <td>0.0</td>\n      <td>2020-09-03 20:00:29</td>\n      <td>NaT</td>\n      <td>27 days 17:50:52</td>\n      <td>0 days 06:09:08</td>\n      <td>NaN</td>\n      <td>2</td>\n    </tr>\n    <tr>\n      <th>3</th>\n      <td>3</td>\n      <td>1027020</td>\n      <td>2020-06-01 14:00:00</td>\n      <td>2020-06-04 14:00:00</td>\n      <td>0</td>\n      <td>1</td>\n      <td>2020-06-02 17:51:26</td>\n      <td>2020-06-02 17:51:26</td>\n      <td>2020-06-03 08:00:27</td>\n      <td>0.0</td>\n      <td>2020-06-03 08:00:27</td>\n      <td>NaT</td>\n      <td>27 days 09:50:59</td>\n      <td>0 days 14:09:01</td>\n      <td>NaN</td>\n      <td>3</td>\n    </tr>\n    <tr>\n      <th>4</th>\n      <td>6</td>\n      <td>1030486</td>\n      <td>2020-08-31 07:00:00</td>\n      <td>2020-09-02 16:00:00</td>\n      <td>0</td>\n      <td>1</td>\n      <td>2020-08-31 08:00:16</td>\n      <td>2020-08-31 08:00:16</td>\n      <td>2020-09-02 14:00:16</td>\n      <td>1.0</td>\n      <td>2020-09-02 14:00:16</td>\n      <td>NaT</td>\n      <td>25 days 18:00:00</td>\n      <td>2 days 06:00:00</td>\n      <td>NaN</td>\n      <td>4</td>\n    </tr>\n  </tbody>\n</table>\n</div>"
     },
     "metadata": {},
     "execution_count": 7
    }
   ],
   "source": [
    "df_baguan.head()"
   ]
  },
  {
   "cell_type": "code",
   "execution_count": null,
   "metadata": {},
   "outputs": [],
   "source": []
  }
 ]
}