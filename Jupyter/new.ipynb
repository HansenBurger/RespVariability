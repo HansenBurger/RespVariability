{
 "metadata": {
  "language_info": {
   "codemirror_mode": {
    "name": "ipython",
    "version": 3
   },
   "file_extension": ".py",
   "mimetype": "text/x-python",
   "name": "python",
   "nbconvert_exporter": "python",
   "pygments_lexer": "ipython3",
   "version": "3.8.8"
  },
  "orig_nbformat": 4,
  "kernelspec": {
   "name": "python3",
   "display_name": "Python 3.8.8 64-bit ('DF_process': conda)"
  },
  "interpreter": {
   "hash": "fc883ce4be776a00668950b7133d030a15826a94400e8f6b01ca8fd8f53ab3b3"
  }
 },
 "nbformat": 4,
 "nbformat_minor": 2,
 "cells": [
  {
   "cell_type": "code",
   "execution_count": 1,
   "source": [
    "import sys, pathlib\r\n",
    "sys.path.append(str(pathlib.Path.cwd().parents[0]))"
   ],
   "outputs": [],
   "metadata": {
    "collapsed": false,
    "pycharm": {
     "name": "#%%\n"
    }
   }
  },
  {
   "cell_type": "code",
   "execution_count": 2,
   "source": [
    "from Code import FormProcess, InIReaWri"
   ],
   "outputs": [],
   "metadata": {}
  },
  {
   "cell_type": "code",
   "execution_count": 3,
   "source": [
    "concat_loc = InIReaWri.ConfigR('FormRoute', 'MainDataForm', conf=None)\r\n",
    "baguan_loc = InIReaWri.ConfigR('FormRoute', 'BaguanForm', conf=None)"
   ],
   "outputs": [],
   "metadata": {}
  },
  {
   "cell_type": "code",
   "execution_count": 4,
   "source": [
    "# df_concat = FormPreProcess.FormProcess(concat_loc, ['上机时间'], 'patient_id')\r\n",
    "df_baguan = FormProcess.FormPreProcess(\r\n",
    "    df_loc = baguan_loc,\r\n",
    "    sort_jud = ['PID'],\r\n",
    "    add_index=False \r\n",
    ")"
   ],
   "outputs": [],
   "metadata": {}
  },
  {
   "cell_type": "code",
   "execution_count": 5,
   "source": [
    "# timecol = [\r\n",
    "#     \"入ICU时间\",\r\n",
    "#     \"出ICU时间\",\r\n",
    "#     \"上机时间\",\r\n",
    "#     \"撤机\",\r\n",
    "#     \"record_time\",\r\n",
    "#     \"记录时间_1\",\r\n",
    "#     \"插管时间\",\r\n",
    "#     \"拔管时间\",\r\n",
    "#     \"撤机时间\",\r\n",
    "#     \"第一次SBT时间\",\r\n",
    "# ]\r\n",
    "timecol = [\r\n",
    "    'FirstMVTime',\r\n",
    "    'SBTTime',\r\n",
    "    'ExTime',\r\n",
    "    'WeanTime',\r\n",
    "    'BackOnTime',\r\n",
    "    'ICUInTime',\r\n",
    "    'ICUOutTime',\r\n",
    "    'HPInTime',\r\n",
    "    'HPOutTime'\r\n",
    "]\r\n",
    "# FormProcess.TimeShift(df_concat, timecol)\r\n",
    "FormProcess.TimeShift(df_baguan, timecol)"
   ],
   "outputs": [],
   "metadata": {}
  },
  {
   "cell_type": "code",
   "execution_count": 6,
   "source": [
    "maincol = [\r\n",
    "    'PID',\r\n",
    "    'SBTInfo',\r\n",
    "    'SBTTime',\r\n",
    "    'SBTType',\r\n",
    "    'ExTime',\r\n",
    "    'WeaningStatus'\r\n",
    "]\r\n",
    "df = df_baguan[maincol]"
   ],
   "outputs": [],
   "metadata": {}
  },
  {
   "cell_type": "code",
   "execution_count": 7,
   "source": [
    "len(df['PID'].unique())"
   ],
   "outputs": [
    {
     "output_type": "execute_result",
     "data": {
      "text/plain": [
       "1024"
      ]
     },
     "metadata": {},
     "execution_count": 7
    }
   ],
   "metadata": {}
  },
  {
   "cell_type": "code",
   "execution_count": 8,
   "source": [
    "df.shape"
   ],
   "outputs": [
    {
     "output_type": "execute_result",
     "data": {
      "text/plain": [
       "(1024, 6)"
      ]
     },
     "metadata": {},
     "execution_count": 8
    }
   ],
   "metadata": {}
  },
  {
   "cell_type": "code",
   "execution_count": null,
   "source": [],
   "outputs": [],
   "metadata": {}
  }
 ]
}